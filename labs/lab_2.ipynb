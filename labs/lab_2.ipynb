{
 "cells": [
  {
   "cell_type": "markdown",
   "id": "09dc5a1e",
   "metadata": {},
   "source": [
    "# Lab 2: Portfolio Optimization\n",
    "\n",
    "In this lab we will explore:\n",
    "- How to compute the return of a portfolio of assets.\n",
    "- How to compute the volatility of a portfolio of assets.\n",
    "- How to optimize a portfolio."
   ]
  },
  {
   "cell_type": "markdown",
   "id": "96afd943",
   "metadata": {},
   "source": [
    "## Imports\n",
    "\n",
    "In this lab we use the following new packages:\n",
    "- `cvxpy`: Used for convex optimization and quadratic programming.\n",
    "- `numpy`: Useful for matrix opperations.\n",
    "- `matplotlib`: Plotting library.\n",
    "- `seaborn`: A wrapper for `matplotlib` that makes charting a little easier."
   ]
  },
  {
   "cell_type": "code",
   "execution_count": 1,
   "id": "1e9d466c",
   "metadata": {},
   "outputs": [
    {
     "name": "stderr",
     "output_type": "stream",
     "text": [
      "/home/acriddl2/Projects/sf-quant-labs/.venv/lib64/python3.11/site-packages/tqdm/auto.py:21: TqdmWarning: IProgress not found. Please update jupyter and ipywidgets. See https://ipywidgets.readthedocs.io/en/stable/user_install.html\n",
      "  from .autonotebook import tqdm as notebook_tqdm\n",
      "2025-09-09 21:09:17,614\tINFO util.py:154 -- Missing packages: ['ipywidgets']. Run `pip install -U ipywidgets`, then restart the notebook server for rich notebook output.\n"
     ]
    }
   ],
   "source": [
    "import sf_quant.data as sfd\n",
    "import sf_quant.optimizer as sfo\n",
    "import polars as pl\n",
    "import datetime as dt\n",
    "import cvxpy as cp\n",
    "import numpy as np\n",
    "import matplotlib.pyplot as plt\n",
    "import seaborn as sns"
   ]
  },
  {
   "cell_type": "markdown",
   "id": "24e3d050",
   "metadata": {},
   "source": [
    "## Data\n",
    "\n",
    "Here we pull daily returns for Apple, Ford, Verizon, and Coke."
   ]
  },
  {
   "cell_type": "code",
   "execution_count": 2,
   "id": "2adc3a93",
   "metadata": {},
   "outputs": [
    {
     "data": {
      "text/html": [
       "<div><style>\n",
       ".dataframe > thead > tr,\n",
       ".dataframe > tbody > tr {\n",
       "  text-align: right;\n",
       "  white-space: pre-wrap;\n",
       "}\n",
       "</style>\n",
       "<small>shape: (1_008, 4)</small><table border=\"1\" class=\"dataframe\"><thead><tr><th>date</th><th>barrid</th><th>ticker</th><th>return</th></tr><tr><td>date</td><td>str</td><td>str</td><td>f64</td></tr></thead><tbody><tr><td>2024-01-02</td><td>&quot;USAB1X1&quot;</td><td>&quot;AAPL&quot;</td><td>-0.035787</td></tr><tr><td>2024-01-03</td><td>&quot;USAB1X1&quot;</td><td>&quot;AAPL&quot;</td><td>-0.007488</td></tr><tr><td>2024-01-04</td><td>&quot;USAB1X1&quot;</td><td>&quot;AAPL&quot;</td><td>-0.0127</td></tr><tr><td>2024-01-05</td><td>&quot;USAB1X1&quot;</td><td>&quot;AAPL&quot;</td><td>-0.004013</td></tr><tr><td>2024-01-08</td><td>&quot;USAB1X1&quot;</td><td>&quot;AAPL&quot;</td><td>0.024175</td></tr><tr><td>&hellip;</td><td>&hellip;</td><td>&hellip;</td><td>&hellip;</td></tr><tr><td>2024-12-24</td><td>&quot;USAHQN1&quot;</td><td>&quot;K&quot;</td><td>0.001487</td></tr><tr><td>2024-12-26</td><td>&quot;USAHQN1&quot;</td><td>&quot;K&quot;</td><td>0.003588</td></tr><tr><td>2024-12-27</td><td>&quot;USAHQN1&quot;</td><td>&quot;K&quot;</td><td>0.00074</td></tr><tr><td>2024-12-30</td><td>&quot;USAHQN1&quot;</td><td>&quot;K&quot;</td><td>-0.004312</td></tr><tr><td>2024-12-31</td><td>&quot;USAHQN1&quot;</td><td>&quot;K&quot;</td><td>0.001856</td></tr></tbody></table></div>"
      ],
      "text/plain": [
       "shape: (1_008, 4)\n",
       "┌────────────┬─────────┬────────┬───────────┐\n",
       "│ date       ┆ barrid  ┆ ticker ┆ return    │\n",
       "│ ---        ┆ ---     ┆ ---    ┆ ---       │\n",
       "│ date       ┆ str     ┆ str    ┆ f64       │\n",
       "╞════════════╪═════════╪════════╪═══════════╡\n",
       "│ 2024-01-02 ┆ USAB1X1 ┆ AAPL   ┆ -0.035787 │\n",
       "│ 2024-01-03 ┆ USAB1X1 ┆ AAPL   ┆ -0.007488 │\n",
       "│ 2024-01-04 ┆ USAB1X1 ┆ AAPL   ┆ -0.0127   │\n",
       "│ 2024-01-05 ┆ USAB1X1 ┆ AAPL   ┆ -0.004013 │\n",
       "│ 2024-01-08 ┆ USAB1X1 ┆ AAPL   ┆ 0.024175  │\n",
       "│ …          ┆ …       ┆ …      ┆ …         │\n",
       "│ 2024-12-24 ┆ USAHQN1 ┆ K      ┆ 0.001487  │\n",
       "│ 2024-12-26 ┆ USAHQN1 ┆ K      ┆ 0.003588  │\n",
       "│ 2024-12-27 ┆ USAHQN1 ┆ K      ┆ 0.00074   │\n",
       "│ 2024-12-30 ┆ USAHQN1 ┆ K      ┆ -0.004312 │\n",
       "│ 2024-12-31 ┆ USAHQN1 ┆ K      ┆ 0.001856  │\n",
       "└────────────┴─────────┴────────┴───────────┘"
      ]
     },
     "execution_count": 2,
     "metadata": {},
     "output_type": "execute_result"
    }
   ],
   "source": [
    "start = dt.date(2024, 1, 1)\n",
    "end = dt.date(2024, 12, 31)\n",
    "\n",
    "in_sample = [start, dt.date(2024, 5, 31)]\n",
    "out_of_sample = [dt.date(2024, 6, 1), end]\n",
    "\n",
    "columns = [\n",
    "    'date',\n",
    "    'barrid',\n",
    "    'ticker',\n",
    "    'return'\n",
    "]\n",
    "\n",
    "tickers = sorted(['AAPL', 'F', 'VZ', 'K'])\n",
    "\n",
    "returns = (\n",
    "        sfd.load_assets(\n",
    "        start=start,\n",
    "        end=end,\n",
    "        in_universe=True,\n",
    "        columns=columns\n",
    "    )\n",
    "    .filter(\n",
    "        pl.col('ticker').is_in(tickers)\n",
    "    )\n",
    "    .with_columns(\n",
    "        pl.col('return').truediv(100)\n",
    "    )\n",
    ")\n",
    "\n",
    "returns"
   ]
  },
  {
   "cell_type": "markdown",
   "id": "2be7a222",
   "metadata": {},
   "source": [
    "## Expected Returns Forecast\n",
    "\n",
    "In practice we will forecast returns using a combination of signal forecasts, but for demonstration purposes we will just use the average historical returns as our expected returns forecast.\n",
    "\n",
    "### Instructions\n",
    "1. Create a expected returns vector for the `in_sample` period (it should be 1x4)"
   ]
  },
  {
   "cell_type": "code",
   "execution_count": 3,
   "id": "b87ea5e3",
   "metadata": {},
   "outputs": [
    {
     "data": {
      "text/plain": [
       "array([0.00011135, 0.00052617, 0.00092021, 0.0012419 ])"
      ]
     },
     "execution_count": 3,
     "metadata": {},
     "output_type": "execute_result"
    }
   ],
   "source": [
    "def expected_returns_task(returns: pl.DataFrame) -> np.array:\n",
    "    \"\"\"\n",
    "    Compute the average daily return of each asset for the in_sample period.\n",
    "\n",
    "    Args:\n",
    "        returns (pl.DataFrame): a data frame containing date, ticker, and return columns\n",
    "\n",
    "    Returns:\n",
    "        np.array: a numpy array (1x4) with an entry for the average return of each ticker (sorted alphabetically by ticker)\n",
    "    \"\"\"\n",
    "\n",
    "    returns = returns.clone()\n",
    "    return returns.filter(pl.col(\"date\") >= in_sample[0], pl.col(\"date\") <= in_sample[1]).group_by(\"ticker\").agg(pl.col(\"return\").mean()).sort(\"ticker\").select(\"return\").to_numpy().flatten()\n",
    "    \n",
    "\n",
    "er_vector = expected_returns_task(returns)\n",
    "\n",
    "er_vector"
   ]
  },
  {
   "cell_type": "markdown",
   "id": "66a092f1",
   "metadata": {},
   "source": [
    "## Covariance Matrix Forecast\n",
    "\n",
    "In practice we will use forecasted covariance matrices from Barra, but for demonstration purposes we will use the historical covariance matrix as our forecast.\n",
    "\n",
    "### Instructions\n",
    "\n",
    "1. Create the covariance matrix using returns from the `in_sample` period."
   ]
  },
  {
   "cell_type": "code",
   "execution_count": 4,
   "id": "18ae227a",
   "metadata": {},
   "outputs": [
    {
     "data": {
      "text/plain": [
       "array([[ 2.03265610e-04,  4.40064300e-05, -5.49098285e-06,\n",
       "        -1.03171749e-05],\n",
       "       [ 4.40064300e-05,  4.23402071e-04,  7.82493618e-05,\n",
       "         4.68156080e-05],\n",
       "       [-5.49098285e-06,  7.82493618e-05,  1.99415916e-04,\n",
       "         4.00302177e-05],\n",
       "       [-1.03171749e-05,  4.68156080e-05,  4.00302177e-05,\n",
       "         1.88445492e-04]])"
      ]
     },
     "execution_count": 4,
     "metadata": {},
     "output_type": "execute_result"
    }
   ],
   "source": [
    "def covariance_matrix_task(returns: pl.DataFrame) -> np.array:\n",
    "    \"\"\"\n",
    "    Compute the historical covariance matrix using the returns from the in_sample period.\n",
    "\n",
    "    Args:\n",
    "        returns (pl.DataFrame): a data frame containing date, ticker, and return columns\n",
    "\n",
    "    Returns:\n",
    "        np.array: a numpy array (4x4) containing the covariances of the assets (columns and rows are sorted alphabetically by ticker)\n",
    "    \"\"\"\n",
    "\n",
    "    returns = returns.clone()\n",
    "    return returns.filter(pl.col(\"date\") >= in_sample[0], pl.col(\"date\") <= in_sample[1]).sort(\"ticker\").to_pandas().pivot(index=\"date\", columns=\"ticker\", values=\"return\").cov().to_numpy()\n",
    "\n",
    "cov_mat = covariance_matrix_task(returns)\n",
    "\n",
    "cov_mat"
   ]
  },
  {
   "cell_type": "markdown",
   "id": "63f76a38",
   "metadata": {},
   "source": [
    "## Mean Variance Optimization\n",
    "\n",
    "In order to determine how much of our portfolio to invest in each assset, we will use mean variance optimization to determine the maximum sharpe ratio portfolio.\n",
    "\n",
    "### Instructions\n",
    "1. Create the objective function for the `cp.Problem`\n",
    "\n",
    "utility = portfolio_return - 0.5 * gamma * portfolio_variance\n",
    "\n",
    "2. Constrain the problem such that\n",
    "- Weights sum to 1 (full investment)\n",
    "- Weights are greater than 0 (long only)\n",
    "- Weights are less than 1 (no buying on margin)\n",
    "\n",
    "3. Find the optimal portfolio weights by solving the `cp.Problem`"
   ]
  },
  {
   "cell_type": "code",
   "execution_count": 5,
   "id": "60f9aaf9",
   "metadata": {},
   "outputs": [
    {
     "name": "stdout",
     "output_type": "stream",
     "text": [
      "shape: (4, 2)\n",
      "┌────────┬─────────────┐\n",
      "│ ticker ┆ weight      │\n",
      "│ ---    ┆ ---         │\n",
      "│ str    ┆ f64         │\n",
      "╞════════╪═════════════╡\n",
      "│ AAPL   ┆ 0.082826    │\n",
      "│ F      ┆ -8.5171e-24 │\n",
      "│ K      ┆ 0.336433    │\n",
      "│ VZ     ┆ 0.580741    │\n",
      "└────────┴─────────────┘\n"
     ]
    }
   ],
   "source": [
    "def optimization_task(tickers: list[str], er_vector: np.array, cov_mat: np.array) -> pl.DataFrame:\n",
    "    \"\"\"\n",
    "    Compute the optimal weights of the portfolio given the expected returns forecast and the covariance matrix forecast.\n",
    "\n",
    "    Args:\n",
    "        ticker (list[str]): a list of tickers sorted alphabetically\n",
    "        er_vector (np.array): a numpy array (1x4) with an entry for the average return of each ticker (sorted alphabetically by ticker)\n",
    "        cov_mat (np.array): a numpy array (4x4) containing the covariances of the assets (columns and rows are sorted alphabetically by ticker)\n",
    "\n",
    "    Returns:\n",
    "        pl.DataFrame: a data frame with columns ticker and weight\n",
    "    \"\"\"\n",
    "    portfolio = cp.Variable(len(tickers))\n",
    "    gamma = 10\n",
    "    \n",
    "    objective = cp.Maximize(portfolio @ er_vector - .5 * gamma * cp.quad_form(portfolio, cov_mat))\n",
    "    problem = cp.Problem(objective, [portfolio >= 0, cp.sum(portfolio) == 1, portfolio <= 1])\n",
    "    problem.solve()\n",
    "    return pl.DataFrame({\"ticker\": tickers, \"weight\": portfolio.value})\n",
    "\n",
    "weights = optimization_task(tickers, er_vector, cov_mat)\n",
    "\n",
    "print(weights)"
   ]
  },
  {
   "cell_type": "markdown",
   "id": "38cf04cf",
   "metadata": {},
   "source": [
    "## In Sample vs. Out of Sample Performance\n",
    "\n",
    "Now that we've identified the optimal weights let's see if our optimized portfolio outperforms a simple equal weighted portfolio.\n",
    "\n",
    "### Instructions\n",
    "1. Compute the baseline returns for the `out_of_sample` period by computing the equal weight returns for each period.\n",
    "2. Compute the optimized returns for the `out_of_sample` period by computing the weighted return of the portfolio for each period using our optimal weights.\n",
    "3. Plot the cumulative returns of each strategy in one chart.\n",
    "4. Compute the total return, average daily return (annualized), volatility (annualized), and sharpe ratio (annualized) for both strategies.\n",
    "5. Go back and try a handful of different `gamma` values in your optimizer and see how your performance results change.\n",
    "6. Write a few sentences commenting on the results."
   ]
  },
  {
   "cell_type": "code",
   "execution_count": 6,
   "id": "c2e93067",
   "metadata": {},
   "outputs": [
    {
     "data": {
      "text/html": [
       "<div><style>\n",
       ".dataframe > thead > tr,\n",
       ".dataframe > tbody > tr {\n",
       "  text-align: right;\n",
       "  white-space: pre-wrap;\n",
       "}\n",
       "</style>\n",
       "<small>shape: (147, 3)</small><table border=\"1\" class=\"dataframe\"><thead><tr><th>date</th><th>return</th><th>cumulative_return</th></tr><tr><td>date</td><td>f64</td><td>f64</td></tr></thead><tbody><tr><td>2024-06-03</td><td>0.002974</td><td>0.002974</td></tr><tr><td>2024-06-04</td><td>0.003132</td><td>0.006115</td></tr><tr><td>2024-06-05</td><td>-0.001288</td><td>0.00482</td></tr><tr><td>2024-06-06</td><td>-0.000683</td><td>0.004134</td></tr><tr><td>2024-06-07</td><td>0.000482</td><td>0.004618</td></tr><tr><td>&hellip;</td><td>&hellip;</td><td>&hellip;</td></tr><tr><td>2024-12-24</td><td>0.005395</td><td>0.139042</td></tr><tr><td>2024-12-26</td><td>0.0039435</td><td>0.143534</td></tr><tr><td>2024-12-27</td><td>-0.004369</td><td>0.138538</td></tr><tr><td>2024-12-30</td><td>-0.010136</td><td>0.126997</td></tr><tr><td>2024-12-31</td><td>0.001668</td><td>0.128877</td></tr></tbody></table></div>"
      ],
      "text/plain": [
       "shape: (147, 3)\n",
       "┌────────────┬───────────┬───────────────────┐\n",
       "│ date       ┆ return    ┆ cumulative_return │\n",
       "│ ---        ┆ ---       ┆ ---               │\n",
       "│ date       ┆ f64       ┆ f64               │\n",
       "╞════════════╪═══════════╪═══════════════════╡\n",
       "│ 2024-06-03 ┆ 0.002974  ┆ 0.002974          │\n",
       "│ 2024-06-04 ┆ 0.003132  ┆ 0.006115          │\n",
       "│ 2024-06-05 ┆ -0.001288 ┆ 0.00482           │\n",
       "│ 2024-06-06 ┆ -0.000683 ┆ 0.004134          │\n",
       "│ 2024-06-07 ┆ 0.000482  ┆ 0.004618          │\n",
       "│ …          ┆ …         ┆ …                 │\n",
       "│ 2024-12-24 ┆ 0.005395  ┆ 0.139042          │\n",
       "│ 2024-12-26 ┆ 0.0039435 ┆ 0.143534          │\n",
       "│ 2024-12-27 ┆ -0.004369 ┆ 0.138538          │\n",
       "│ 2024-12-30 ┆ -0.010136 ┆ 0.126997          │\n",
       "│ 2024-12-31 ┆ 0.001668  ┆ 0.128877          │\n",
       "└────────────┴───────────┴───────────────────┘"
      ]
     },
     "execution_count": 6,
     "metadata": {},
     "output_type": "execute_result"
    }
   ],
   "source": [
    "def baseline_returns_task(returns: pl.DataFrame) -> pl.DataFrame:\n",
    "    \"\"\"\n",
    "    Compute the average daily return of each asset for the out_of_sample period.\n",
    "\n",
    "    Args:\n",
    "        returns (pl.DataFrame): a data frame containing date, ticker, and return columns\n",
    "\n",
    "    Returns:\n",
    "        pl.DataFrame: a data frame containing date, return, and cumulative_return columns\n",
    "    \"\"\"\n",
    "\n",
    "    returns = returns.clone()\n",
    "    returns = pl.DataFrame({\"date\": returns.get_column(\"date\").unique().sort(), \"return\": returns.pivot(\"ticker\", index=\"date\", values=\"return\").select(tickers).mean_horizontal()}).filter(pl.col(\"date\") >= out_of_sample[0], pl.col(\"date\") <= out_of_sample[1]) \n",
    "    return returns.with_columns(((pl.col(\"return\") + 1).cum_prod() - 1).alias(\"cumulative_return\"))\n",
    "\n",
    "baseline_returns = baseline_returns_task(returns)\n",
    "baseline_returns"
   ]
  },
  {
   "cell_type": "code",
   "execution_count": 7,
   "id": "e0bbae69",
   "metadata": {},
   "outputs": [
    {
     "data": {
      "text/html": [
       "<div><style>\n",
       ".dataframe > thead > tr,\n",
       ".dataframe > tbody > tr {\n",
       "  text-align: right;\n",
       "  white-space: pre-wrap;\n",
       "}\n",
       "</style>\n",
       "<small>shape: (147, 3)</small><table border=\"1\" class=\"dataframe\"><thead><tr><th>date</th><th>return</th><th>cumulative_return</th></tr><tr><td>date</td><td>f64</td><td>f64</td></tr></thead><tbody><tr><td>2024-06-03</td><td>-0.001019</td><td>-0.001019</td></tr><tr><td>2024-06-04</td><td>0.01167</td><td>0.010639</td></tr><tr><td>2024-06-05</td><td>-0.006069</td><td>0.004505</td></tr><tr><td>2024-06-06</td><td>0.000762</td><td>0.005271</td></tr><tr><td>2024-06-07</td><td>-0.007029</td><td>-0.001795</td></tr><tr><td>&hellip;</td><td>&hellip;</td><td>&hellip;</td></tr><tr><td>2024-12-24</td><td>-0.000585</td><td>0.148875</td></tr><tr><td>2024-12-26</td><td>0.003805</td><td>0.153247</td></tr><tr><td>2024-12-27</td><td>-0.001429</td><td>0.151599</td></tr><tr><td>2024-12-30</td><td>-0.007204</td><td>0.143302</td></tr><tr><td>2024-12-31</td><td>0.005759</td><td>0.149886</td></tr></tbody></table></div>"
      ],
      "text/plain": [
       "shape: (147, 3)\n",
       "┌────────────┬───────────┬───────────────────┐\n",
       "│ date       ┆ return    ┆ cumulative_return │\n",
       "│ ---        ┆ ---       ┆ ---               │\n",
       "│ date       ┆ f64       ┆ f64               │\n",
       "╞════════════╪═══════════╪═══════════════════╡\n",
       "│ 2024-06-03 ┆ -0.001019 ┆ -0.001019         │\n",
       "│ 2024-06-04 ┆ 0.01167   ┆ 0.010639          │\n",
       "│ 2024-06-05 ┆ -0.006069 ┆ 0.004505          │\n",
       "│ 2024-06-06 ┆ 0.000762  ┆ 0.005271          │\n",
       "│ 2024-06-07 ┆ -0.007029 ┆ -0.001795         │\n",
       "│ …          ┆ …         ┆ …                 │\n",
       "│ 2024-12-24 ┆ -0.000585 ┆ 0.148875          │\n",
       "│ 2024-12-26 ┆ 0.003805  ┆ 0.153247          │\n",
       "│ 2024-12-27 ┆ -0.001429 ┆ 0.151599          │\n",
       "│ 2024-12-30 ┆ -0.007204 ┆ 0.143302          │\n",
       "│ 2024-12-31 ┆ 0.005759  ┆ 0.149886          │\n",
       "└────────────┴───────────┴───────────────────┘"
      ]
     },
     "execution_count": 7,
     "metadata": {},
     "output_type": "execute_result"
    }
   ],
   "source": [
    "def optimized_returns_task(returns: pl.DataFrame, weights: pl.DataFrame) -> pl.DataFrame:\n",
    "    \"\"\"\n",
    "    Compute the average daily return of each asset for the out_of_sample period.\n",
    "\n",
    "    Args:\n",
    "        returns (pl.DataFrame): a data frame containing date, ticker, and return columns\n",
    "        weights (pl.DataFrame): a data frame with columns ticker and weight\n",
    "\n",
    "    Returns:\n",
    "        pl.DataFrame: a data frame containing date, return, and cumulative_return columns\n",
    "    \"\"\"\n",
    "\n",
    "    returns = returns.clone()\n",
    "    returns = returns.join(weights.clone(), on=\"ticker\")\n",
    "    returns = returns.with_columns((pl.col(\"return\") * pl.col(\"weight\")).alias(\"return\"))\n",
    "    returns = pl.DataFrame({\"date\": returns.get_column(\"date\").unique().sort(), \"return\": returns.pivot(\"ticker\", index=\"date\", values=\"return\").select(tickers).sum_horizontal()}).filter(pl.col(\"date\") >= out_of_sample[0], pl.col(\"date\") <= out_of_sample[1]) \n",
    "    return returns.with_columns(((pl.col(\"return\") + 1).cum_prod() - 1).alias(\"cumulative_return\"))\n",
    "\n",
    "optimized_returns = optimized_returns_task(returns, weights)\n",
    "\n",
    "optimized_returns"
   ]
  },
  {
   "cell_type": "code",
   "execution_count": 8,
   "id": "5e90c62e",
   "metadata": {},
   "outputs": [
    {
     "data": {
      "text/plain": [
       "Text(0.5, 1.0, 'Performance of 4-Asset Portfolios')"
      ]
     },
     "execution_count": 8,
     "metadata": {},
     "output_type": "execute_result"
    },
    {
     "data": {
      "image/png": "[encoded data removed]",
      "text/plain": [
       "<Figure size 640x480 with 1 Axes>"
      ]
     },
     "metadata": {},
     "output_type": "display_data"
    }
   ],
   "source": [
    "plt.plot(baseline_returns.get_column(\"date\"), baseline_returns.get_column(\"cumulative_return\"), label=\"equal weight\")\n",
    "plt.plot(optimized_returns.get_column(\"date\"), optimized_returns.get_column(\"cumulative_return\"), label=\"optimized\")\n",
    "plt.legend()\n",
    "plt.title(\"Performance of 4-Asset Portfolios\")"
   ]
  },
  {
   "cell_type": "code",
   "execution_count": 9,
   "id": "c5b75874",
   "metadata": {},
   "outputs": [
    {
     "name": "stdout",
     "output_type": "stream",
     "text": [
      "Equal weight:\n",
      "   Total return: 0.12887665031590667\n",
      "   Average return: 0.0008601105442176873\n",
      "   Volatility: 0.00838687818587667\n",
      "   Sharpe: 0.1342751170357883\n",
      "\n",
      "Optimized:\n",
      "   Total return: 0.1498861430635321\n",
      "   Average return: 0.0009932455421710524\n",
      "   Volatility: 0.009272055050136561\n",
      "   Sharpe: 0.14025625097793992\n"
     ]
    }
   ],
   "source": [
    "# TODO: Compute the total_return, average_return, volatility, and sharpe for the baseline and optimized strategies\n",
    "print(\"Equal weight:\")\n",
    "total_return = baseline_returns.get_column(\"cumulative_return\")[-1]\n",
    "print(\"   Total return: \" + str(total_return))\n",
    "average_return = baseline_returns.get_column(\"return\").mean()\n",
    "print(\"   Average return: \" + str(average_return))\n",
    "volatility = baseline_returns.get_column(\"return\").std()\n",
    "print(\"   Volatility: \" + str(volatility))\n",
    "print(\"   Sharpe: \" + str(average_return * np.sqrt(252/len(baseline_returns.get_column(\"return\")))/volatility))\n",
    "print()\n",
    "print(\"Optimized:\")\n",
    "total_return = optimized_returns.get_column(\"cumulative_return\")[-1]\n",
    "print(\"   Total return: \" + str(total_return))\n",
    "average_return = optimized_returns.get_column(\"return\").mean()\n",
    "print(\"   Average return: \" + str(average_return))\n",
    "volatility = optimized_returns.get_column(\"return\").std()\n",
    "print(\"   Volatility: \" + str(volatility))\n",
    "print(\"   Sharpe: \" + str(average_return * np.sqrt(252/len(optimized_returns.get_column(\"return\")))/volatility))"
   ]
  },
  {
   "cell_type": "markdown",
   "id": "8ebbce81",
   "metadata": {},
   "source": [
    "Comment here on the results that you have found.\n",
    "\n",
    "The optimized portfolio performs marginally better than the equal-weighted. Granted, we never perform rebalancing, and as such we most likely lose out on some of the potential return. Notably, the optimized has a higher total return and a slightly higher volatility than the equal weight."
   ]
  },
  {
   "cell_type": "markdown",
   "id": "a21e20b5",
   "metadata": {},
   "source": [
    "## `sf-quant` Optimizer Module\n",
    "\n",
    "What if I told you that you don't have to write out the optimization code by hand again? Wouldn't that be great? Lucky for you we've pre-built a module in the `sf-quant` package that provides abstracted functionality for portfolio optimization.\n",
    "\n",
    "### Instructions\n",
    "\n",
    "- Create a `list` of constraints including `FullInvestment`, `LongOnly`, and `NoBuyingOnMargin`.\n",
    "- Get the weights from the `sf_quant.optimizer.mve_optimizer` function using your previously computed returns forecast and covariance matrix.\n",
    "\n",
    "Note: you should get really similar weights to your previous results."
   ]
  },
  {
   "cell_type": "code",
   "execution_count": 10,
   "id": "6bf4954d",
   "metadata": {},
   "outputs": [
    {
     "name": "stdout",
     "output_type": "stream",
     "text": [
      "[[ 2.03265610e-04  4.40064300e-05 -5.49098285e-06 -1.03171749e-05]\n",
      " [ 4.40064300e-05  4.23402071e-04  7.82493618e-05  4.68156080e-05]\n",
      " [-5.49098285e-06  7.82493618e-05  1.99415916e-04  4.00302177e-05]\n",
      " [-1.03171749e-05  4.68156080e-05  4.00302177e-05  1.88445492e-04]]\n",
      "[0.00011135 0.00052617 0.00092021 0.0012419 ]\n"
     ]
    },
    {
     "data": {
      "text/html": [
       "<div><style>\n",
       ".dataframe > thead > tr,\n",
       ".dataframe > tbody > tr {\n",
       "  text-align: right;\n",
       "  white-space: pre-wrap;\n",
       "}\n",
       "</style>\n",
       "<small>shape: (4, 2)</small><table border=\"1\" class=\"dataframe\"><thead><tr><th>ticker</th><th>weight</th></tr><tr><td>str</td><td>f64</td></tr></thead><tbody><tr><td>&quot;AAPL&quot;</td><td>0.082826</td></tr><tr><td>&quot;F&quot;</td><td>-1.8068e-23</td></tr><tr><td>&quot;K&quot;</td><td>0.336433</td></tr><tr><td>&quot;VZ&quot;</td><td>0.580741</td></tr></tbody></table></div>"
      ],
      "text/plain": [
       "shape: (4, 2)\n",
       "┌────────┬─────────────┐\n",
       "│ ticker ┆ weight      │\n",
       "│ ---    ┆ ---         │\n",
       "│ str    ┆ f64         │\n",
       "╞════════╪═════════════╡\n",
       "│ AAPL   ┆ 0.082826    │\n",
       "│ F      ┆ -1.8068e-23 │\n",
       "│ K      ┆ 0.336433    │\n",
       "│ VZ     ┆ 0.580741    │\n",
       "└────────┴─────────────┘"
      ]
     },
     "execution_count": 10,
     "metadata": {},
     "output_type": "execute_result"
    }
   ],
   "source": [
    "def task_sf_optimizer_weights(tickers: list[str], er_vector: np.ndarray, cov_mat: np.ndarray) -> pl.DataFrame:\n",
    "    \"\"\"\n",
    "    Compute the optimal weights of the portfolio given the expected returns forecast and the covariance matrix forecast.\n",
    "    Make sure to use the sf_quant package.\n",
    "\n",
    "    Args:\n",
    "        ticker (list[str]): a list of tickers sorted alphabetically\n",
    "        er_vector (np.array): a numpy array (1x4) with an entry for the average return of each ticker (sorted alphabetically by ticker)\n",
    "        cov_mat (np.array): a numpy array (4x4) containing the covariances of the assets (columns and rows are sorted alphabetically by ticker)\n",
    "\n",
    "    Returns:\n",
    "        pl.DataFrame: a data frame with columns ticker and weight\n",
    "    \"\"\"\n",
    "    print(cov_mat)\n",
    "    print(er_vector)\n",
    "    return sfo.mve_optimizer(tickers, er_vector, cov_mat, [sfo.FullInvestment(), sfo.LongOnly(), sfo.NoBuyingOnMargin()], gamma=10).rename({\"barrid\":\"ticker\"})\n",
    "\n",
    "weights_sf = task_sf_optimizer_weights(tickers, er_vector, cov_mat)\n",
    "\n",
    "weights_sf"
   ]
  },
  {
   "cell_type": "markdown",
   "id": "2523972b",
   "metadata": {},
   "source": [
    "## Barra Covariance Matrix\n",
    "\n",
    "Now let's improve our portfolio by using a better forecast for the covariance matrix. We are very fortunate to have access to the MSCI Barra covariance matrix forecasts. In this task you will load the Barra covariance matrix for the last day of your in sample period and compute the new optimal weights.\n",
    "\n",
    "### Instructions\n",
    "\n",
    "- Use the `sf_quant.data.construct_covariance_matrix` function to pull the covariance matrix for the last market date of the in sample period.\n",
    "- Compute the optimal weights of your portfolio using this new covariance matrix.\n",
    "- Hint: since the Barra covariance matrix is annualized, you will need to multiply your returns forecast by 252."
   ]
  },
  {
   "cell_type": "code",
   "execution_count": 11,
   "id": "4c8b356c",
   "metadata": {},
   "outputs": [
    {
     "name": "stdout",
     "output_type": "stream",
     "text": [
      "[[0.000268660332697614 3.503865589173758e-05 0.00014045252137216203\n",
      "  2.535366672319498e-05]\n",
      " [3.503865589173761e-05 0.00034805442414104427 9.79003416856002e-05\n",
      "  5.340321683919041e-05]\n",
      " [0.00014045252137216197 9.790034168560016e-05 0.0004670571811365766\n",
      "  6.21706917258006e-05]\n",
      " [2.5353666723194963e-05 5.3403216839190406e-05 6.217069172580064e-05\n",
      "  0.0001537967063691507]]\n",
      "[0.00011135 0.00052617 0.00092021 0.0012419 ]\n"
     ]
    },
    {
     "data": {
      "text/html": [
       "<div><style>\n",
       ".dataframe > thead > tr,\n",
       ".dataframe > tbody > tr {\n",
       "  text-align: right;\n",
       "  white-space: pre-wrap;\n",
       "}\n",
       "</style>\n",
       "<small>shape: (4, 2)</small><table border=\"1\" class=\"dataframe\"><thead><tr><th>ticker</th><th>weight</th></tr><tr><td>str</td><td>f64</td></tr></thead><tbody><tr><td>&quot;AAPL&quot;</td><td>7.2572e-14</td></tr><tr><td>&quot;F&quot;</td><td>0.035</td></tr><tr><td>&quot;K&quot;</td><td>0.110155</td></tr><tr><td>&quot;VZ&quot;</td><td>0.854845</td></tr></tbody></table></div>"
      ],
      "text/plain": [
       "shape: (4, 2)\n",
       "┌────────┬────────────┐\n",
       "│ ticker ┆ weight     │\n",
       "│ ---    ┆ ---        │\n",
       "│ str    ┆ f64        │\n",
       "╞════════╪════════════╡\n",
       "│ AAPL   ┆ 7.2572e-14 │\n",
       "│ F      ┆ 0.035      │\n",
       "│ K      ┆ 0.110155   │\n",
       "│ VZ     ┆ 0.854845   │\n",
       "└────────┴────────────┘"
      ]
     },
     "execution_count": 11,
     "metadata": {},
     "output_type": "execute_result"
    }
   ],
   "source": [
    "def task_barra_optimizer_weights(returns: pl.DataFrame) -> pl.DataFrame:\n",
    "    \"\"\" \n",
    "    Compute the optimal weights of the portfolio given the expected returns forecast and the barra covariance matrix forecast.\n",
    "    Make sure to use the sf_quant package.\n",
    "\n",
    "    Args:\n",
    "        returns (pl.DataFrame): a data frame containing date, ticker, and return columns\n",
    "\n",
    "    Returns:\n",
    "        pl.DataFrame: a data frame with columns barrid and weight\n",
    "    \"\"\"\n",
    "    \n",
    "    cov_mat = sfd.construct_covariance_matrix(in_sample[1], returns.sort(\"ticker\").get_column(\"barrid\").unique(maintain_order=True)).to_numpy()[:,1:] / 252\n",
    "    er_vector = expected_returns_task(returns)\n",
    "    return task_sf_optimizer_weights(returns.get_column(\"ticker\").unique().sort(), er_vector, cov_mat)\n",
    "\n",
    "weights_barra = task_barra_optimizer_weights(returns)\n",
    "\n",
    "weights_barra"
   ]
  },
  {
   "cell_type": "markdown",
   "id": "7b1b7ebe",
   "metadata": {},
   "source": [
    "## Performance Analysis\n",
    "\n",
    "Now that we've got the Barra optimal weights, let's see how they perform compared to our out of sample baseline.\n",
    "\n",
    "### Instructions\n",
    "1. Compute the optimized barra returns for the `out_of_sample` period by computing the weighted return of the portfolio for each period using our optimal weights.\n",
    "2. Plot the cumulative returns of each strategy in one chart.\n",
    "3. Compute the total return, average daily return (annualized), volatility (annualized), and sharpe ratio (annualized) for both strategies.\n",
    "4. Go back and try a handful of different `gamma` values in your optimizer and see how your performance results change.\n",
    "5. Write a few sentences commenting on the results."
   ]
  },
  {
   "cell_type": "code",
   "execution_count": 12,
   "id": "5edd45be",
   "metadata": {},
   "outputs": [
    {
     "data": {
      "text/html": [
       "<div><style>\n",
       ".dataframe > thead > tr,\n",
       ".dataframe > tbody > tr {\n",
       "  text-align: right;\n",
       "  white-space: pre-wrap;\n",
       "}\n",
       "</style>\n",
       "<small>shape: (147, 3)</small><table border=\"1\" class=\"dataframe\"><thead><tr><th>date</th><th>return</th><th>cumulative_return</th></tr><tr><td>date</td><td>f64</td><td>f64</td></tr></thead><tbody><tr><td>2024-06-03</td><td>-0.003157</td><td>-0.003157</td></tr><tr><td>2024-06-04</td><td>0.012724</td><td>0.009527</td></tr><tr><td>2024-06-05</td><td>-0.005442</td><td>0.004033</td></tr><tr><td>2024-06-06</td><td>0.00012</td><td>0.004154</td></tr><tr><td>2024-06-07</td><td>-0.008678</td><td>-0.004559</td></tr><tr><td>&hellip;</td><td>&hellip;</td><td>&hellip;</td></tr><tr><td>2024-12-24</td><td>-0.002408</td><td>0.033247</td></tr><tr><td>2024-12-26</td><td>0.004006</td><td>0.037386</td></tr><tr><td>2024-12-27</td><td>-0.000913</td><td>0.036439</td></tr><tr><td>2024-12-30</td><td>-0.007851</td><td>0.028302</td></tr><tr><td>2024-12-31</td><td>0.008694</td><td>0.037242</td></tr></tbody></table></div>"
      ],
      "text/plain": [
       "shape: (147, 3)\n",
       "┌────────────┬───────────┬───────────────────┐\n",
       "│ date       ┆ return    ┆ cumulative_return │\n",
       "│ ---        ┆ ---       ┆ ---               │\n",
       "│ date       ┆ f64       ┆ f64               │\n",
       "╞════════════╪═══════════╪═══════════════════╡\n",
       "│ 2024-06-03 ┆ -0.003157 ┆ -0.003157         │\n",
       "│ 2024-06-04 ┆ 0.012724  ┆ 0.009527          │\n",
       "│ 2024-06-05 ┆ -0.005442 ┆ 0.004033          │\n",
       "│ 2024-06-06 ┆ 0.00012   ┆ 0.004154          │\n",
       "│ 2024-06-07 ┆ -0.008678 ┆ -0.004559         │\n",
       "│ …          ┆ …         ┆ …                 │\n",
       "│ 2024-12-24 ┆ -0.002408 ┆ 0.033247          │\n",
       "│ 2024-12-26 ┆ 0.004006  ┆ 0.037386          │\n",
       "│ 2024-12-27 ┆ -0.000913 ┆ 0.036439          │\n",
       "│ 2024-12-30 ┆ -0.007851 ┆ 0.028302          │\n",
       "│ 2024-12-31 ┆ 0.008694  ┆ 0.037242          │\n",
       "└────────────┴───────────┴───────────────────┘"
      ]
     },
     "execution_count": 12,
     "metadata": {},
     "output_type": "execute_result"
    }
   ],
   "source": [
    "def optimized_barra_returns_task(returns: pl.DataFrame, weights_barra: pl.DataFrame) -> pl.DataFrame:\n",
    "    \"\"\"\n",
    "    Compute the average daily return of each asset for the out_of_sample period.\n",
    "\n",
    "    Args:\n",
    "        returns (pl.DataFrame): a data frame containing date, ticker, and return columns\n",
    "        weights_barra (pl.DataFrame): a data frame with columns ticker and weight\n",
    "\n",
    "    Returns:\n",
    "        pl.DataFrame: a data frame containing date, return, and cumulative_return columns\n",
    "    \"\"\"\n",
    "    return optimized_returns_task(returns, weights_barra)\n",
    "\n",
    "optimized_returns_barra = optimized_barra_returns_task(returns, weights_barra)\n",
    "\n",
    "optimized_returns_barra"
   ]
  },
  {
   "cell_type": "code",
   "execution_count": 13,
   "id": "d4d0751f",
   "metadata": {},
   "outputs": [
    {
     "data": {
      "text/plain": [
       "Text(0.5, 1.0, 'Performance of 4-Asset Portfolios')"
      ]
     },
     "execution_count": 13,
     "metadata": {},
     "output_type": "execute_result"
    },
    {
     "data": {
      "image/png": "[encoded data removed]",
      "text/plain": [
       "<Figure size 640x480 with 1 Axes>"
      ]
     },
     "metadata": {},
     "output_type": "display_data"
    }
   ],
   "source": [
    "plt.plot(baseline_returns.get_column(\"date\"), baseline_returns.get_column(\"cumulative_return\"), label=\"equal weight\")\n",
    "plt.plot(optimized_returns.get_column(\"date\"), optimized_returns.get_column(\"cumulative_return\"), label=\"optimized\")\n",
    "plt.plot(optimized_returns_barra.get_column(\"date\"), optimized_returns_barra.get_column(\"cumulative_return\"), \"g--\", label=\"barra optimized\")\n",
    "plt.legend()\n",
    "plt.title(\"Performance of 4-Asset Portfolios\")"
   ]
  },
  {
   "cell_type": "code",
   "execution_count": 14,
   "id": "474a7e75",
   "metadata": {},
   "outputs": [
    {
     "name": "stdout",
     "output_type": "stream",
     "text": [
      "Equal weight:\n",
      "   Total return: 0.12887665031590667\n",
      "   Average return: 0.0008601105442176873\n",
      "   Volatility: 0.00838687818587667\n",
      "   Sharpe: 0.1342751170357883\n",
      "\n",
      "Barra Optimized:\n",
      "   Total return: 0.03724193071777804\n",
      "   Average return: 0.00031381065159476114\n",
      "   Volatility: 0.011403225657287734\n",
      "   Sharpe: 0.036031435516226715\n"
     ]
    }
   ],
   "source": [
    "# TODO: Compute the total_return, average_return, volatility, and sharpe for the baseline and optimized strategies\n",
    "print(\"Equal weight:\")\n",
    "total_return = baseline_returns.get_column(\"cumulative_return\")[-1]\n",
    "print(\"   Total return: \" + str(total_return))\n",
    "average_return = baseline_returns.get_column(\"return\").mean()\n",
    "print(\"   Average return: \" + str(average_return))\n",
    "volatility = baseline_returns.get_column(\"return\").std()\n",
    "print(\"   Volatility: \" + str(volatility))\n",
    "print(\"   Sharpe: \" + str(average_return * np.sqrt(252/len(baseline_returns.get_column(\"return\")))/volatility))\n",
    "print()\n",
    "print(\"Barra Optimized:\")\n",
    "total_return = optimized_returns_barra.get_column(\"cumulative_return\")[-1]\n",
    "print(\"   Total return: \" + str(total_return))\n",
    "average_return = optimized_returns_barra.get_column(\"return\").mean()\n",
    "print(\"   Average return: \" + str(average_return))\n",
    "volatility = optimized_returns_barra.get_column(\"return\").std()\n",
    "print(\"   Volatility: \" + str(volatility))\n",
    "print(\"   Sharpe: \" + str(average_return * np.sqrt(252/len(optimized_returns_barra.get_column(\"return\")))/volatility))"
   ]
  },
  {
   "cell_type": "markdown",
   "id": "4a8b98b6",
   "metadata": {},
   "source": [
    "Comment here on the results that you have found."
   ]
  },
  {
   "cell_type": "markdown",
   "id": "e9b9afce",
   "metadata": {},
   "source": [
    "Here we see that the Barra optimized portfolio performs significantly worse than our previous optimized and equal weight portfolios. The Sharpe rate is considerably smaller, with a much higher volatility and much lower return. The best explanation for this seems to be that the Barra historical covariance matrix probably doesn't accurately reflect the ongoing market conditions."
   ]
  }
 ],
 "metadata": {
  "kernelspec": {
   "display_name": "sf-quant-labs",
   "language": "python",
   "name": "python3"
  },
  "language_info": {
   "codemirror_mode": {
    "name": "ipython",
    "version": 3
   },
   "file_extension": ".py",
   "mimetype": "text/x-python",
   "name": "python",
   "nbconvert_exporter": "python",
   "pygments_lexer": "ipython3",
   "version": "3.11.7"
  }
 },
 "nbformat": 4,
 "nbformat_minor": 5
}
