{
 "cells": [
  {
   "cell_type": "markdown",
   "id": "a4c395c4",
   "metadata": {},
   "source": [
    "# Lab. 3: Momentum I\n",
    "\n",
    "In this lab we will explore the signal research proccess with the classic Jegadeesh and Titman momentum signal.\n",
    "\n",
    "We will explore:\n",
    "- How to compute signals with point in time compliance in mind.\n",
    "- The need to filter out low priced securities.\n",
    "- How to create decile and spread portfolios.\n",
    "- Strategy performance metrics."
   ]
  },
  {
   "cell_type": "markdown",
   "id": "cf5bb9f8",
   "metadata": {},
   "source": [
    "## Imports"
   ]
  },
  {
   "cell_type": "code",
   "execution_count": 1,
   "id": "d15a5294",
   "metadata": {},
   "outputs": [
    {
     "name": "stderr",
     "output_type": "stream",
     "text": [
      "/home/acriddl2/Projects/sf-quant-labs/.venv/lib64/python3.11/site-packages/tqdm/auto.py:21: TqdmWarning: IProgress not found. Please update jupyter and ipywidgets. See https://ipywidgets.readthedocs.io/en/stable/user_install.html\n",
      "  from .autonotebook import tqdm as notebook_tqdm\n",
      "2025-09-13 22:34:37,342\tINFO util.py:154 -- Missing packages: ['ipywidgets']. Run `pip install -U ipywidgets`, then restart the notebook server for rich notebook output.\n"
     ]
    }
   ],
   "source": [
    "import sf_quant.data as sfd\n",
    "import polars as pl\n",
    "import datetime as dt\n",
    "import numpy as np\n",
    "import matplotlib.pyplot as plt\n",
    "import seaborn as sns"
   ]
  },
  {
   "cell_type": "markdown",
   "id": "497c9e9a",
   "metadata": {},
   "source": [
    "## Data\n",
    "\n",
    "We will be looking at our investment universe from 1996 to 2024.\n",
    "\n",
    "This should take around 10 seconds to run."
   ]
  },
  {
   "cell_type": "code",
   "execution_count": 4,
   "id": "84e358e5",
   "metadata": {},
   "outputs": [
    {
     "data": {
      "text/html": [
       "<div><style>\n",
       ".dataframe > thead > tr,\n",
       ".dataframe > tbody > tr {\n",
       "  text-align: right;\n",
       "  white-space: pre-wrap;\n",
       "}\n",
       "</style>\n",
       "<small>shape: (21_471_250, 6)</small><table border=\"1\" class=\"dataframe\"><thead><tr><th>date</th><th>barrid</th><th>ticker</th><th>price</th><th>return</th><th>market_cap</th></tr><tr><td>date</td><td>str</td><td>str</td><td>f64</td><td>f64</td><td>f64</td></tr></thead><tbody><tr><td>2013-07-31</td><td>&quot;USA06Z1&quot;</td><td>&quot;MDXG&quot;</td><td>6.26</td><td>-0.1595</td><td>6.006157e8</td></tr><tr><td>2013-08-01</td><td>&quot;USA06Z1&quot;</td><td>&quot;MDXG&quot;</td><td>6.32</td><td>0.9585</td><td>6.0865392e8</td></tr><tr><td>2013-08-02</td><td>&quot;USA06Z1&quot;</td><td>&quot;MDXG&quot;</td><td>6.31</td><td>-0.1582</td><td>6.0769086e8</td></tr><tr><td>2013-08-05</td><td>&quot;USA06Z1&quot;</td><td>&quot;MDXG&quot;</td><td>6.45</td><td>2.2187</td><td>6.211737e8</td></tr><tr><td>2013-08-06</td><td>&quot;USA06Z1&quot;</td><td>&quot;MDXG&quot;</td><td>6.29</td><td>-2.4806</td><td>6.0576474e8</td></tr><tr><td>&hellip;</td><td>&hellip;</td><td>&hellip;</td><td>&hellip;</td><td>&hellip;</td><td>&hellip;</td></tr><tr><td>2024-12-24</td><td>&quot;USBQOR1&quot;</td><td>&quot;ECG&quot;</td><td>70.58</td><td>2.5872</td><td>3.5976e9</td></tr><tr><td>2024-12-26</td><td>&quot;USBQOR1&quot;</td><td>&quot;ECG&quot;</td><td>73.61</td><td>4.293</td><td>3.7521e9</td></tr><tr><td>2024-12-27</td><td>&quot;USBQOR1&quot;</td><td>&quot;ECG&quot;</td><td>69.85</td><td>-5.108</td><td>3.5604e9</td></tr><tr><td>2024-12-30</td><td>&quot;USBQOR1&quot;</td><td>&quot;ECG&quot;</td><td>66.87</td><td>-4.2663</td><td>3.4085e9</td></tr><tr><td>2024-12-31</td><td>&quot;USBQOR1&quot;</td><td>&quot;ECG&quot;</td><td>65.75</td><td>-1.6749</td><td>3.3514e9</td></tr></tbody></table></div>"
      ],
      "text/plain": [
       "shape: (21_471_250, 6)\n",
       "┌────────────┬─────────┬────────┬───────┬─────────┬─────────────┐\n",
       "│ date       ┆ barrid  ┆ ticker ┆ price ┆ return  ┆ market_cap  │\n",
       "│ ---        ┆ ---     ┆ ---    ┆ ---   ┆ ---     ┆ ---         │\n",
       "│ date       ┆ str     ┆ str    ┆ f64   ┆ f64     ┆ f64         │\n",
       "╞════════════╪═════════╪════════╪═══════╪═════════╪═════════════╡\n",
       "│ 2013-07-31 ┆ USA06Z1 ┆ MDXG   ┆ 6.26  ┆ -0.1595 ┆ 6.006157e8  │\n",
       "│ 2013-08-01 ┆ USA06Z1 ┆ MDXG   ┆ 6.32  ┆ 0.9585  ┆ 6.0865392e8 │\n",
       "│ 2013-08-02 ┆ USA06Z1 ┆ MDXG   ┆ 6.31  ┆ -0.1582 ┆ 6.0769086e8 │\n",
       "│ 2013-08-05 ┆ USA06Z1 ┆ MDXG   ┆ 6.45  ┆ 2.2187  ┆ 6.211737e8  │\n",
       "│ 2013-08-06 ┆ USA06Z1 ┆ MDXG   ┆ 6.29  ┆ -2.4806 ┆ 6.0576474e8 │\n",
       "│ …          ┆ …       ┆ …      ┆ …     ┆ …       ┆ …           │\n",
       "│ 2024-12-24 ┆ USBQOR1 ┆ ECG    ┆ 70.58 ┆ 2.5872  ┆ 3.5976e9    │\n",
       "│ 2024-12-26 ┆ USBQOR1 ┆ ECG    ┆ 73.61 ┆ 4.293   ┆ 3.7521e9    │\n",
       "│ 2024-12-27 ┆ USBQOR1 ┆ ECG    ┆ 69.85 ┆ -5.108  ┆ 3.5604e9    │\n",
       "│ 2024-12-30 ┆ USBQOR1 ┆ ECG    ┆ 66.87 ┆ -4.2663 ┆ 3.4085e9    │\n",
       "│ 2024-12-31 ┆ USBQOR1 ┆ ECG    ┆ 65.75 ┆ -1.6749 ┆ 3.3514e9    │\n",
       "└────────────┴─────────┴────────┴───────┴─────────┴─────────────┘"
      ]
     },
     "execution_count": 4,
     "metadata": {},
     "output_type": "execute_result"
    }
   ],
   "source": [
    "start = dt.date(1996, 1, 1)\n",
    "end = dt.date(2024, 12, 31)\n",
    "\n",
    "columns = [\n",
    "    'date',\n",
    "    'barrid',\n",
    "    'ticker',\n",
    "    'price',\n",
    "    'return',\n",
    "    'market_cap'\n",
    "]\n",
    "\n",
    "data = sfd.load_assets(\n",
    "    start=start,\n",
    "    end=end,\n",
    "    in_universe=True,\n",
    "    columns=columns\n",
    ")\n",
    "\n",
    "data"
   ]
  },
  {
   "cell_type": "markdown",
   "id": "ca6c6623",
   "metadata": {},
   "source": [
    "## Compute the Momentum Signal\n",
    "\n",
    "## Instructions\n",
    "\n",
    "- Compute momentum for each security and date as the rolling 230 day return (you can just use log returns here).\n",
    "- Shift the momentum signal 22 days. This will results in the 11 month return from t-12 to t-2."
   ]
  },
  {
   "cell_type": "code",
   "execution_count": 44,
   "id": "1e51eeb5",
   "metadata": {},
   "outputs": [
    {
     "name": "stdout",
     "output_type": "stream",
     "text": [
      "shape: (21_471_250, 7)\n",
      "┌────────────┬─────────┬────────┬───────┬─────────┬─────────────┬──────────┐\n",
      "│ date       ┆ barrid  ┆ ticker ┆ price ┆ return  ┆ market_cap  ┆ momentum │\n",
      "│ ---        ┆ ---     ┆ ---    ┆ ---   ┆ ---     ┆ ---         ┆ ---      │\n",
      "│ date       ┆ str     ┆ str    ┆ f64   ┆ f64     ┆ f64         ┆ f64      │\n",
      "╞════════════╪═════════╪════════╪═══════╪═════════╪═════════════╪══════════╡\n",
      "│ 2013-07-31 ┆ USA06Z1 ┆ MDXG   ┆ 6.26  ┆ -0.1595 ┆ 6.006157e8  ┆ null     │\n",
      "│ 2013-08-01 ┆ USA06Z1 ┆ MDXG   ┆ 6.32  ┆ 0.9585  ┆ 6.0865392e8 ┆ null     │\n",
      "│ 2013-08-02 ┆ USA06Z1 ┆ MDXG   ┆ 6.31  ┆ -0.1582 ┆ 6.0769086e8 ┆ null     │\n",
      "│ 2013-08-05 ┆ USA06Z1 ┆ MDXG   ┆ 6.45  ┆ 2.2187  ┆ 6.211737e8  ┆ null     │\n",
      "│ 2013-08-06 ┆ USA06Z1 ┆ MDXG   ┆ 6.29  ┆ -2.4806 ┆ 6.0576474e8 ┆ null     │\n",
      "│ 2013-08-07 ┆ USA06Z1 ┆ MDXG   ┆ 5.78  ┆ -8.1081 ┆ 5.5664868e8 ┆ null     │\n",
      "│ 2013-08-08 ┆ USA06Z1 ┆ MDXG   ┆ 5.79  ┆ 0.173   ┆ 5.5801125e8 ┆ null     │\n",
      "│ 2013-08-09 ┆ USA06Z1 ┆ MDXG   ┆ 5.69  ┆ -1.7271 ┆ 5.4837375e8 ┆ null     │\n",
      "│ 2013-08-12 ┆ USA06Z1 ┆ MDXG   ┆ 5.68  ┆ -0.1757 ┆ 5.4741e8    ┆ null     │\n",
      "│ 2013-08-13 ┆ USA06Z1 ┆ MDXG   ┆ 6.04  ┆ 6.338   ┆ 5.82105e8   ┆ null     │\n",
      "│ …          ┆ …       ┆ …      ┆ …     ┆ …       ┆ …           ┆ …        │\n",
      "│ 2024-12-17 ┆ USBQOR1 ┆ ECG    ┆ 69.67 ┆ -2.0939 ┆ 3.5512e9    ┆ null     │\n",
      "│ 2024-12-18 ┆ USBQOR1 ┆ ECG    ┆ 68.5  ┆ -1.6793 ┆ 3.4916e9    ┆ null     │\n",
      "│ 2024-12-19 ┆ USBQOR1 ┆ ECG    ┆ 64.6  ┆ -5.6934 ┆ 3.2928e9    ┆ null     │\n",
      "│ 2024-12-20 ┆ USBQOR1 ┆ ECG    ┆ 67.09 ┆ 3.8545  ┆ 3.4197e9    ┆ null     │\n",
      "│ 2024-12-23 ┆ USBQOR1 ┆ ECG    ┆ 68.8  ┆ 2.5488  ┆ 3.5069e9    ┆ null     │\n",
      "│ 2024-12-24 ┆ USBQOR1 ┆ ECG    ┆ 70.58 ┆ 2.5872  ┆ 3.5976e9    ┆ null     │\n",
      "│ 2024-12-26 ┆ USBQOR1 ┆ ECG    ┆ 73.61 ┆ 4.293   ┆ 3.7521e9    ┆ null     │\n",
      "│ 2024-12-27 ┆ USBQOR1 ┆ ECG    ┆ 69.85 ┆ -5.108  ┆ 3.5604e9    ┆ null     │\n",
      "│ 2024-12-30 ┆ USBQOR1 ┆ ECG    ┆ 66.87 ┆ -4.2663 ┆ 3.4085e9    ┆ null     │\n",
      "│ 2024-12-31 ┆ USBQOR1 ┆ ECG    ┆ 65.75 ┆ -1.6749 ┆ 3.3514e9    ┆ null     │\n",
      "└────────────┴─────────┴────────┴───────┴─────────┴─────────────┴──────────┘\n"
     ]
    }
   ],
   "source": [
    "def task_compute_momentum(data: pl.DataFrame) -> pl.DataFrame:\n",
    "    \"\"\"\n",
    "    Compute the t_12 to t_2 momentum signal for each secrutiy and date combination.\n",
    "    \n",
    "    Args:\n",
    "        data (pl.DataFrame): Data frame containing date, barrid, price, and return columns.\n",
    "    \n",
    "    Returns:\n",
    "        pl.DataFrame: Data frame with columns date, barrid, price, return, and momentum columns.\n",
    "    \"\"\"\n",
    "    data = data.clone().with_columns((pl.col('return')/100 + 1).log().rolling_sum(230).shift(22).over(\"barrid\").alias(\"momentum\"))\n",
    "    return data\n",
    "pl.Config.set_tbl_rows(20)\n",
    "momentum = task_compute_momentum(data)\n",
    "\n",
    "momentum\n",
    "print(momentum)"
   ]
  },
  {
   "cell_type": "markdown",
   "id": "b1a76bdb",
   "metadata": {},
   "source": [
    "## Price and Momentum Filter\n",
    "\n",
    "When doing backtesting strategies it's helpful to drop securities with a price below $5.\n",
    "\n",
    "- Create a variable price_lag that is the previous days price for each security.\n",
    "- Filter securities to ones with a lagged price greater than 5.\n",
    "- Drop null momentum values since we won't trade securities where we don't have a signal."
   ]
  },
  {
   "cell_type": "code",
   "execution_count": 48,
   "id": "cc25f78d",
   "metadata": {},
   "outputs": [
    {
     "data": {
      "text/html": [
       "<div><style>\n",
       ".dataframe > thead > tr,\n",
       ".dataframe > tbody > tr {\n",
       "  text-align: right;\n",
       "  white-space: pre-wrap;\n",
       "}\n",
       "</style>\n",
       "<small>shape: (17_646_990, 7)</small><table border=\"1\" class=\"dataframe\"><thead><tr><th>date</th><th>barrid</th><th>ticker</th><th>price</th><th>return</th><th>market_cap</th><th>momentum</th></tr><tr><td>date</td><td>str</td><td>str</td><td>f64</td><td>f64</td><td>f64</td><td>f64</td></tr></thead><tbody><tr><td>2014-07-30</td><td>&quot;USA06Z1&quot;</td><td>&quot;MDXG&quot;</td><td>7.1</td><td>0.9957</td><td>7.410696e8</td><td>0.101525</td></tr><tr><td>2014-07-31</td><td>&quot;USA06Z1&quot;</td><td>&quot;MDXG&quot;</td><td>6.91</td><td>-2.6761</td><td>7.2123816e8</td><td>0.124505</td></tr><tr><td>2014-08-01</td><td>&quot;USA06Z1&quot;</td><td>&quot;MDXG&quot;</td><td>6.81</td><td>-1.4472</td><td>7.1080056e8</td><td>0.167176</td></tr><tr><td>2014-08-04</td><td>&quot;USA06Z1&quot;</td><td>&quot;MDXG&quot;</td><td>7.08</td><td>3.9648</td><td>7.3898208e8</td><td>0.159344</td></tr><tr><td>2014-08-05</td><td>&quot;USA06Z1&quot;</td><td>&quot;MDXG&quot;</td><td>7.05</td><td>-0.4237</td><td>7.358508e8</td><td>0.14279</td></tr><tr><td>2014-08-06</td><td>&quot;USA06Z1&quot;</td><td>&quot;MDXG&quot;</td><td>6.98</td><td>-0.9929</td><td>7.2854448e8</td><td>0.144795</td></tr><tr><td>2014-08-07</td><td>&quot;USA06Z1&quot;</td><td>&quot;MDXG&quot;</td><td>6.69</td><td>-4.1547</td><td>6.9827544e8</td><td>0.184337</td></tr><tr><td>2014-08-08</td><td>&quot;USA06Z1&quot;</td><td>&quot;MDXG&quot;</td><td>6.52</td><td>-2.5411</td><td>6.8053152e8</td><td>0.163726</td></tr><tr><td>2014-08-11</td><td>&quot;USA06Z1&quot;</td><td>&quot;MDXG&quot;</td><td>6.92</td><td>6.135</td><td>7.2228192e8</td><td>0.17379</td></tr><tr><td>2014-08-12</td><td>&quot;USA06Z1&quot;</td><td>&quot;MDXG&quot;</td><td>6.88</td><td>-0.578</td><td>7.1810688e8</td><td>0.160668</td></tr><tr><td>&hellip;</td><td>&hellip;</td><td>&hellip;</td><td>&hellip;</td><td>&hellip;</td><td>&hellip;</td><td>&hellip;</td></tr><tr><td>2024-12-19</td><td>&quot;USBPJV1&quot;</td><td>&quot;NLOP&quot;</td><td>30.69</td><td>-1.5399</td><td>4.5376e8</td><td>0.570572</td></tr><tr><td>2024-12-20</td><td>&quot;USBPJV1&quot;</td><td>&quot;NLOP&quot;</td><td>30.92</td><td>0.7494</td><td>4.5716e8</td><td>0.643407</td></tr><tr><td>2024-12-23</td><td>&quot;USBPJV1&quot;</td><td>&quot;NLOP&quot;</td><td>30.71</td><td>-0.6792</td><td>4.5405e8</td><td>0.622444</td></tr><tr><td>2024-12-24</td><td>&quot;USBPJV1&quot;</td><td>&quot;NLOP&quot;</td><td>30.89</td><td>0.5861</td><td>4.5671e8</td><td>0.588496</td></tr><tr><td>2024-12-26</td><td>&quot;USBPJV1&quot;</td><td>&quot;NLOP&quot;</td><td>31.42</td><td>1.7158</td><td>4.6455e8</td><td>0.540745</td></tr><tr><td>2024-12-27</td><td>&quot;USBPJV1&quot;</td><td>&quot;NLOP&quot;</td><td>30.81</td><td>-1.9414</td><td>4.5553e8</td><td>0.527437</td></tr><tr><td>2024-12-30</td><td>&quot;USBPJV1&quot;</td><td>&quot;NLOP&quot;</td><td>31.08</td><td>0.8763</td><td>4.5952e8</td><td>0.522813</td></tr><tr><td>2024-12-31</td><td>&quot;USBPJV1&quot;</td><td>&quot;NLOP&quot;</td><td>31.21</td><td>0.4183</td><td>4.6144e8</td><td>0.552793</td></tr><tr><td>2024-12-30</td><td>&quot;USBPM41&quot;</td><td>&quot;WS&quot;</td><td>31.32</td><td>-2.1556</td><td>1.5903e9</td><td>0.414281</td></tr><tr><td>2024-12-31</td><td>&quot;USBPM41&quot;</td><td>&quot;WS&quot;</td><td>31.82</td><td>1.5964</td><td>1.6157e9</td><td>0.47947</td></tr></tbody></table></div>"
      ],
      "text/plain": [
       "shape: (17_646_990, 7)\n",
       "┌────────────┬─────────┬────────┬───────┬─────────┬─────────────┬──────────┐\n",
       "│ date       ┆ barrid  ┆ ticker ┆ price ┆ return  ┆ market_cap  ┆ momentum │\n",
       "│ ---        ┆ ---     ┆ ---    ┆ ---   ┆ ---     ┆ ---         ┆ ---      │\n",
       "│ date       ┆ str     ┆ str    ┆ f64   ┆ f64     ┆ f64         ┆ f64      │\n",
       "╞════════════╪═════════╪════════╪═══════╪═════════╪═════════════╪══════════╡\n",
       "│ 2014-07-30 ┆ USA06Z1 ┆ MDXG   ┆ 7.1   ┆ 0.9957  ┆ 7.410696e8  ┆ 0.101525 │\n",
       "│ 2014-07-31 ┆ USA06Z1 ┆ MDXG   ┆ 6.91  ┆ -2.6761 ┆ 7.2123816e8 ┆ 0.124505 │\n",
       "│ 2014-08-01 ┆ USA06Z1 ┆ MDXG   ┆ 6.81  ┆ -1.4472 ┆ 7.1080056e8 ┆ 0.167176 │\n",
       "│ 2014-08-04 ┆ USA06Z1 ┆ MDXG   ┆ 7.08  ┆ 3.9648  ┆ 7.3898208e8 ┆ 0.159344 │\n",
       "│ 2014-08-05 ┆ USA06Z1 ┆ MDXG   ┆ 7.05  ┆ -0.4237 ┆ 7.358508e8  ┆ 0.14279  │\n",
       "│ 2014-08-06 ┆ USA06Z1 ┆ MDXG   ┆ 6.98  ┆ -0.9929 ┆ 7.2854448e8 ┆ 0.144795 │\n",
       "│ 2014-08-07 ┆ USA06Z1 ┆ MDXG   ┆ 6.69  ┆ -4.1547 ┆ 6.9827544e8 ┆ 0.184337 │\n",
       "│ 2014-08-08 ┆ USA06Z1 ┆ MDXG   ┆ 6.52  ┆ -2.5411 ┆ 6.8053152e8 ┆ 0.163726 │\n",
       "│ 2014-08-11 ┆ USA06Z1 ┆ MDXG   ┆ 6.92  ┆ 6.135   ┆ 7.2228192e8 ┆ 0.17379  │\n",
       "│ 2014-08-12 ┆ USA06Z1 ┆ MDXG   ┆ 6.88  ┆ -0.578  ┆ 7.1810688e8 ┆ 0.160668 │\n",
       "│ …          ┆ …       ┆ …      ┆ …     ┆ …       ┆ …           ┆ …        │\n",
       "│ 2024-12-19 ┆ USBPJV1 ┆ NLOP   ┆ 30.69 ┆ -1.5399 ┆ 4.5376e8    ┆ 0.570572 │\n",
       "│ 2024-12-20 ┆ USBPJV1 ┆ NLOP   ┆ 30.92 ┆ 0.7494  ┆ 4.5716e8    ┆ 0.643407 │\n",
       "│ 2024-12-23 ┆ USBPJV1 ┆ NLOP   ┆ 30.71 ┆ -0.6792 ┆ 4.5405e8    ┆ 0.622444 │\n",
       "│ 2024-12-24 ┆ USBPJV1 ┆ NLOP   ┆ 30.89 ┆ 0.5861  ┆ 4.5671e8    ┆ 0.588496 │\n",
       "│ 2024-12-26 ┆ USBPJV1 ┆ NLOP   ┆ 31.42 ┆ 1.7158  ┆ 4.6455e8    ┆ 0.540745 │\n",
       "│ 2024-12-27 ┆ USBPJV1 ┆ NLOP   ┆ 30.81 ┆ -1.9414 ┆ 4.5553e8    ┆ 0.527437 │\n",
       "│ 2024-12-30 ┆ USBPJV1 ┆ NLOP   ┆ 31.08 ┆ 0.8763  ┆ 4.5952e8    ┆ 0.522813 │\n",
       "│ 2024-12-31 ┆ USBPJV1 ┆ NLOP   ┆ 31.21 ┆ 0.4183  ┆ 4.6144e8    ┆ 0.552793 │\n",
       "│ 2024-12-30 ┆ USBPM41 ┆ WS     ┆ 31.32 ┆ -2.1556 ┆ 1.5903e9    ┆ 0.414281 │\n",
       "│ 2024-12-31 ┆ USBPM41 ┆ WS     ┆ 31.82 ┆ 1.5964  ┆ 1.6157e9    ┆ 0.47947  │\n",
       "└────────────┴─────────┴────────┴───────┴─────────┴─────────────┴──────────┘"
      ]
     },
     "execution_count": 48,
     "metadata": {},
     "output_type": "execute_result"
    }
   ],
   "source": [
    "def task_price_filter(momentum: pl.DataFrame) -> pl.DataFrame:\n",
    "    \"\"\"\n",
    "    Filter the universe to lagged price greater than 5 and non-null momentum.\n",
    "    \n",
    "    Args:\n",
    "        momentum (pl.DataFrame): Data frame with columns date, barrid, price, return, and momentum columns.\n",
    "    \n",
    "    Returns:\n",
    "        pl.DataFrame: Data frame with columns date, barrid, price, return, and momentum columns.\n",
    "    \"\"\"\n",
    "    momentum = momentum.clone()\n",
    "    momentum = momentum.with_columns(pl.col(\"price\").shift().over(\"barrid\").alias(\"price_lag\"))\n",
    "    return momentum.filter((pl.col(\"price_lag\") > 5) & (pl.col(\"momentum\").is_not_null())).drop(\"price_lag\")\n",
    "\n",
    "price_filter = task_price_filter(momentum)\n",
    "\n",
    "price_filter"
   ]
  },
  {
   "cell_type": "markdown",
   "id": "0f57efb4",
   "metadata": {},
   "source": [
    "## Create Decile Portfolios\n",
    "\n",
    "### Instructions\n",
    "\n",
    "- For each date divide all securities into 10 deciles based on their momentum score. The highest momentum securities should be in bin 9 and the lowest momentum securities should be in bin 0. The `.qcut()` expression will be helpful here.\n"
   ]
  },
  {
   "cell_type": "code",
   "execution_count": 55,
   "id": "54930877",
   "metadata": {},
   "outputs": [
    {
     "data": {
      "text/html": [
       "<div><style>\n",
       ".dataframe > thead > tr,\n",
       ".dataframe > tbody > tr {\n",
       "  text-align: right;\n",
       "  white-space: pre-wrap;\n",
       "}\n",
       "</style>\n",
       "<small>shape: (17_646_990, 8)</small><table border=\"1\" class=\"dataframe\"><thead><tr><th>date</th><th>barrid</th><th>ticker</th><th>price</th><th>return</th><th>market_cap</th><th>momentum</th><th>bin</th></tr><tr><td>date</td><td>str</td><td>str</td><td>f64</td><td>f64</td><td>f64</td><td>f64</td><td>cat</td></tr></thead><tbody><tr><td>2014-07-30</td><td>&quot;USA06Z1&quot;</td><td>&quot;MDXG&quot;</td><td>7.1</td><td>0.9957</td><td>7.410696e8</td><td>0.101525</td><td>&quot;4&quot;</td></tr><tr><td>2014-07-31</td><td>&quot;USA06Z1&quot;</td><td>&quot;MDXG&quot;</td><td>6.91</td><td>-2.6761</td><td>7.2123816e8</td><td>0.124505</td><td>&quot;4&quot;</td></tr><tr><td>2014-08-01</td><td>&quot;USA06Z1&quot;</td><td>&quot;MDXG&quot;</td><td>6.81</td><td>-1.4472</td><td>7.1080056e8</td><td>0.167176</td><td>&quot;5&quot;</td></tr><tr><td>2014-08-04</td><td>&quot;USA06Z1&quot;</td><td>&quot;MDXG&quot;</td><td>7.08</td><td>3.9648</td><td>7.3898208e8</td><td>0.159344</td><td>&quot;5&quot;</td></tr><tr><td>2014-08-05</td><td>&quot;USA06Z1&quot;</td><td>&quot;MDXG&quot;</td><td>7.05</td><td>-0.4237</td><td>7.358508e8</td><td>0.14279</td><td>&quot;5&quot;</td></tr><tr><td>2014-08-06</td><td>&quot;USA06Z1&quot;</td><td>&quot;MDXG&quot;</td><td>6.98</td><td>-0.9929</td><td>7.2854448e8</td><td>0.144795</td><td>&quot;5&quot;</td></tr><tr><td>2014-08-07</td><td>&quot;USA06Z1&quot;</td><td>&quot;MDXG&quot;</td><td>6.69</td><td>-4.1547</td><td>6.9827544e8</td><td>0.184337</td><td>&quot;6&quot;</td></tr><tr><td>2014-08-08</td><td>&quot;USA06Z1&quot;</td><td>&quot;MDXG&quot;</td><td>6.52</td><td>-2.5411</td><td>6.8053152e8</td><td>0.163726</td><td>&quot;5&quot;</td></tr><tr><td>2014-08-11</td><td>&quot;USA06Z1&quot;</td><td>&quot;MDXG&quot;</td><td>6.92</td><td>6.135</td><td>7.2228192e8</td><td>0.17379</td><td>&quot;6&quot;</td></tr><tr><td>2014-08-12</td><td>&quot;USA06Z1&quot;</td><td>&quot;MDXG&quot;</td><td>6.88</td><td>-0.578</td><td>7.1810688e8</td><td>0.160668</td><td>&quot;5&quot;</td></tr><tr><td>&hellip;</td><td>&hellip;</td><td>&hellip;</td><td>&hellip;</td><td>&hellip;</td><td>&hellip;</td><td>&hellip;</td><td>&hellip;</td></tr><tr><td>2024-12-19</td><td>&quot;USBPJV1&quot;</td><td>&quot;NLOP&quot;</td><td>30.69</td><td>-1.5399</td><td>4.5376e8</td><td>0.570572</td><td>&quot;9&quot;</td></tr><tr><td>2024-12-20</td><td>&quot;USBPJV1&quot;</td><td>&quot;NLOP&quot;</td><td>30.92</td><td>0.7494</td><td>4.5716e8</td><td>0.643407</td><td>&quot;9&quot;</td></tr><tr><td>2024-12-23</td><td>&quot;USBPJV1&quot;</td><td>&quot;NLOP&quot;</td><td>30.71</td><td>-0.6792</td><td>4.5405e8</td><td>0.622444</td><td>&quot;9&quot;</td></tr><tr><td>2024-12-24</td><td>&quot;USBPJV1&quot;</td><td>&quot;NLOP&quot;</td><td>30.89</td><td>0.5861</td><td>4.5671e8</td><td>0.588496</td><td>&quot;9&quot;</td></tr><tr><td>2024-12-26</td><td>&quot;USBPJV1&quot;</td><td>&quot;NLOP&quot;</td><td>31.42</td><td>1.7158</td><td>4.6455e8</td><td>0.540745</td><td>&quot;9&quot;</td></tr><tr><td>2024-12-27</td><td>&quot;USBPJV1&quot;</td><td>&quot;NLOP&quot;</td><td>30.81</td><td>-1.9414</td><td>4.5553e8</td><td>0.527437</td><td>&quot;8&quot;</td></tr><tr><td>2024-12-30</td><td>&quot;USBPJV1&quot;</td><td>&quot;NLOP&quot;</td><td>31.08</td><td>0.8763</td><td>4.5952e8</td><td>0.522813</td><td>&quot;8&quot;</td></tr><tr><td>2024-12-31</td><td>&quot;USBPJV1&quot;</td><td>&quot;NLOP&quot;</td><td>31.21</td><td>0.4183</td><td>4.6144e8</td><td>0.552793</td><td>&quot;9&quot;</td></tr><tr><td>2024-12-30</td><td>&quot;USBPM41&quot;</td><td>&quot;WS&quot;</td><td>31.32</td><td>-2.1556</td><td>1.5903e9</td><td>0.414281</td><td>&quot;8&quot;</td></tr><tr><td>2024-12-31</td><td>&quot;USBPM41&quot;</td><td>&quot;WS&quot;</td><td>31.82</td><td>1.5964</td><td>1.6157e9</td><td>0.47947</td><td>&quot;8&quot;</td></tr></tbody></table></div>"
      ],
      "text/plain": [
       "shape: (17_646_990, 8)\n",
       "┌────────────┬─────────┬────────┬───────┬─────────┬─────────────┬──────────┬─────┐\n",
       "│ date       ┆ barrid  ┆ ticker ┆ price ┆ return  ┆ market_cap  ┆ momentum ┆ bin │\n",
       "│ ---        ┆ ---     ┆ ---    ┆ ---   ┆ ---     ┆ ---         ┆ ---      ┆ --- │\n",
       "│ date       ┆ str     ┆ str    ┆ f64   ┆ f64     ┆ f64         ┆ f64      ┆ cat │\n",
       "╞════════════╪═════════╪════════╪═══════╪═════════╪═════════════╪══════════╪═════╡\n",
       "│ 2014-07-30 ┆ USA06Z1 ┆ MDXG   ┆ 7.1   ┆ 0.9957  ┆ 7.410696e8  ┆ 0.101525 ┆ 4   │\n",
       "│ 2014-07-31 ┆ USA06Z1 ┆ MDXG   ┆ 6.91  ┆ -2.6761 ┆ 7.2123816e8 ┆ 0.124505 ┆ 4   │\n",
       "│ 2014-08-01 ┆ USA06Z1 ┆ MDXG   ┆ 6.81  ┆ -1.4472 ┆ 7.1080056e8 ┆ 0.167176 ┆ 5   │\n",
       "│ 2014-08-04 ┆ USA06Z1 ┆ MDXG   ┆ 7.08  ┆ 3.9648  ┆ 7.3898208e8 ┆ 0.159344 ┆ 5   │\n",
       "│ 2014-08-05 ┆ USA06Z1 ┆ MDXG   ┆ 7.05  ┆ -0.4237 ┆ 7.358508e8  ┆ 0.14279  ┆ 5   │\n",
       "│ 2014-08-06 ┆ USA06Z1 ┆ MDXG   ┆ 6.98  ┆ -0.9929 ┆ 7.2854448e8 ┆ 0.144795 ┆ 5   │\n",
       "│ 2014-08-07 ┆ USA06Z1 ┆ MDXG   ┆ 6.69  ┆ -4.1547 ┆ 6.9827544e8 ┆ 0.184337 ┆ 6   │\n",
       "│ 2014-08-08 ┆ USA06Z1 ┆ MDXG   ┆ 6.52  ┆ -2.5411 ┆ 6.8053152e8 ┆ 0.163726 ┆ 5   │\n",
       "│ 2014-08-11 ┆ USA06Z1 ┆ MDXG   ┆ 6.92  ┆ 6.135   ┆ 7.2228192e8 ┆ 0.17379  ┆ 6   │\n",
       "│ 2014-08-12 ┆ USA06Z1 ┆ MDXG   ┆ 6.88  ┆ -0.578  ┆ 7.1810688e8 ┆ 0.160668 ┆ 5   │\n",
       "│ …          ┆ …       ┆ …      ┆ …     ┆ …       ┆ …           ┆ …        ┆ …   │\n",
       "│ 2024-12-19 ┆ USBPJV1 ┆ NLOP   ┆ 30.69 ┆ -1.5399 ┆ 4.5376e8    ┆ 0.570572 ┆ 9   │\n",
       "│ 2024-12-20 ┆ USBPJV1 ┆ NLOP   ┆ 30.92 ┆ 0.7494  ┆ 4.5716e8    ┆ 0.643407 ┆ 9   │\n",
       "│ 2024-12-23 ┆ USBPJV1 ┆ NLOP   ┆ 30.71 ┆ -0.6792 ┆ 4.5405e8    ┆ 0.622444 ┆ 9   │\n",
       "│ 2024-12-24 ┆ USBPJV1 ┆ NLOP   ┆ 30.89 ┆ 0.5861  ┆ 4.5671e8    ┆ 0.588496 ┆ 9   │\n",
       "│ 2024-12-26 ┆ USBPJV1 ┆ NLOP   ┆ 31.42 ┆ 1.7158  ┆ 4.6455e8    ┆ 0.540745 ┆ 9   │\n",
       "│ 2024-12-27 ┆ USBPJV1 ┆ NLOP   ┆ 30.81 ┆ -1.9414 ┆ 4.5553e8    ┆ 0.527437 ┆ 8   │\n",
       "│ 2024-12-30 ┆ USBPJV1 ┆ NLOP   ┆ 31.08 ┆ 0.8763  ┆ 4.5952e8    ┆ 0.522813 ┆ 8   │\n",
       "│ 2024-12-31 ┆ USBPJV1 ┆ NLOP   ┆ 31.21 ┆ 0.4183  ┆ 4.6144e8    ┆ 0.552793 ┆ 9   │\n",
       "│ 2024-12-30 ┆ USBPM41 ┆ WS     ┆ 31.32 ┆ -2.1556 ┆ 1.5903e9    ┆ 0.414281 ┆ 8   │\n",
       "│ 2024-12-31 ┆ USBPM41 ┆ WS     ┆ 31.82 ┆ 1.5964  ┆ 1.6157e9    ┆ 0.47947  ┆ 8   │\n",
       "└────────────┴─────────┴────────┴───────┴─────────┴─────────────┴──────────┴─────┘"
      ]
     },
     "execution_count": 55,
     "metadata": {},
     "output_type": "execute_result"
    }
   ],
   "source": [
    "def task_momentum_bins(price_filter: pl.DataFrame) -> pl.DataFrame:\n",
    "    \"\"\"\n",
    "    Bin the securities into deciles for each date by momentum.\n",
    "    \n",
    "    Args:\n",
    "        price_filter (pl.DataFrame): Data frame with columns date, barrid, price, return, and momentum columns.\n",
    "    \n",
    "    Returns:\n",
    "        pl.DataFrame: Data frame with columns date, barrid, price, return, momentum and bin columns.\n",
    "    \"\"\"\n",
    "    price_filter = price_filter.clone()\n",
    "    return price_filter.with_columns((pl.col(\"momentum\").qcut(10, labels=[str(i) for i in range(10)]).over(\"date\").alias(\"bin\")))\n",
    "\n",
    "momentum_bins = task_momentum_bins(price_filter)\n",
    "\n",
    "momentum_bins"
   ]
  },
  {
   "cell_type": "markdown",
   "id": "aba76a48",
   "metadata": {},
   "source": [
    "## Equal Weight Portfolios\n",
    "\n",
    "For each date and bin combo compute the equal weight return.\n",
    "\n",
    "### Instructions\n",
    "- Use `.group_by()` to find the average return for each decile on each date.\n",
    "- Pivot the data frame into index=date, columns=bins, and values=returns (`.pivot()`)\n",
    "- Compute the spread portfolio as the return of bin 9 minus the return of bin 0"
   ]
  },
  {
   "cell_type": "code",
   "execution_count": null,
   "id": "f0185310",
   "metadata": {},
   "outputs": [
    {
     "name": "stdout",
     "output_type": "stream",
     "text": [
      "['7', '0', '5', '6', '2', '1', '3', '9', '8', '4', 'spread']\n"
     ]
    },
    {
     "name": "stderr",
     "output_type": "stream",
     "text": [
      "/tmp/ipykernel_1236085/1167366331.py:12: DeprecationWarning: the argument `columns` for `DataFrame.pivot` is deprecated. It was renamed to `on` in version 1.0.0.\n",
      "  momentum_bins = momentum_bins.group_by([\"date\", \"bin\"]).agg(pl.col(\"return\").mean()).pivot(index=\"date\", columns=\"bin\", values=\"return\").with_columns((pl.col(\"9\") - pl.col(\"0\")).alias(\"spread\"))\n"
     ]
    },
    {
     "data": {
      "text/html": [
       "<div><style>\n",
       ".dataframe > thead > tr,\n",
       ".dataframe > tbody > tr {\n",
       "  text-align: right;\n",
       "  white-space: pre-wrap;\n",
       "}\n",
       "</style>\n",
       "<small>shape: (7_049, 12)</small><table border=\"1\" class=\"dataframe\"><thead><tr><th>date</th><th>0</th><th>1</th><th>2</th><th>3</th><th>4</th><th>5</th><th>6</th><th>7</th><th>8</th><th>9</th><th>spread</th></tr><tr><td>date</td><td>f64</td><td>f64</td><td>f64</td><td>f64</td><td>f64</td><td>f64</td><td>f64</td><td>f64</td><td>f64</td><td>f64</td><td>f64</td></tr></thead><tbody><tr><td>2015-06-26</td><td>-0.146325</td><td>-0.057051</td><td>-0.143258</td><td>0.022021</td><td>0.334302</td><td>0.131118</td><td>-0.016649</td><td>0.068994</td><td>-0.042044</td><td>-0.749446</td><td>-0.603121</td></tr><tr><td>2010-01-27</td><td>1.211546</td><td>1.201553</td><td>0.82576</td><td>1.02744</td><td>0.748913</td><td>0.786053</td><td>0.730615</td><td>0.867357</td><td>0.864269</td><td>0.591355</td><td>-0.620191</td></tr><tr><td>2006-02-08</td><td>0.664735</td><td>0.550214</td><td>0.751343</td><td>0.74862</td><td>0.548769</td><td>0.436013</td><td>0.325395</td><td>0.419725</td><td>0.415098</td><td>0.545862</td><td>-0.118873</td></tr><tr><td>1998-10-14</td><td>1.386188</td><td>1.278552</td><td>1.199209</td><td>0.999399</td><td>1.184164</td><td>0.97691</td><td>1.207494</td><td>1.506756</td><td>1.914452</td><td>1.847842</td><td>0.461654</td></tr><tr><td>2020-05-13</td><td>-6.709237</td><td>-4.618455</td><td>-3.873532</td><td>-3.934112</td><td>-4.075464</td><td>-3.16664</td><td>-2.842107</td><td>-2.44375</td><td>-2.049254</td><td>-2.227681</td><td>4.481556</td></tr><tr><td>2012-02-24</td><td>-0.300543</td><td>-0.368694</td><td>0.017153</td><td>-0.423376</td><td>-0.386706</td><td>-0.352373</td><td>-0.427123</td><td>-0.285542</td><td>-0.218737</td><td>0.079758</td><td>0.380302</td></tr><tr><td>2018-08-10</td><td>-0.594969</td><td>-0.517211</td><td>-0.547897</td><td>-0.290747</td><td>-0.69385</td><td>-0.397285</td><td>-0.388128</td><td>-0.21083</td><td>-0.133511</td><td>0.678037</td><td>1.273006</td></tr><tr><td>2002-10-16</td><td>-3.752634</td><td>-3.863776</td><td>-2.990966</td><td>-2.879621</td><td>-2.224045</td><td>-2.433566</td><td>-2.153338</td><td>-2.062317</td><td>-1.735714</td><td>-2.071393</td><td>1.681241</td></tr><tr><td>2003-05-27</td><td>3.409263</td><td>2.577635</td><td>2.169694</td><td>2.305629</td><td>1.652932</td><td>1.681384</td><td>1.674139</td><td>1.537538</td><td>1.503317</td><td>2.170545</td><td>-1.238718</td></tr><tr><td>2015-03-17</td><td>0.222498</td><td>0.060165</td><td>0.167436</td><td>0.089383</td><td>0.110423</td><td>0.08508</td><td>0.010658</td><td>0.049337</td><td>0.138989</td><td>0.349027</td><td>0.12653</td></tr><tr><td>&hellip;</td><td>&hellip;</td><td>&hellip;</td><td>&hellip;</td><td>&hellip;</td><td>&hellip;</td><td>&hellip;</td><td>&hellip;</td><td>&hellip;</td><td>&hellip;</td><td>&hellip;</td><td>&hellip;</td></tr><tr><td>2000-02-14</td><td>1.346465</td><td>0.268928</td><td>0.260148</td><td>-0.211365</td><td>0.410524</td><td>-0.130612</td><td>0.118159</td><td>0.848941</td><td>0.845203</td><td>0.521531</td><td>-0.824934</td></tr><tr><td>2014-11-25</td><td>-0.826414</td><td>-0.106025</td><td>-0.042353</td><td>-0.128096</td><td>-0.138052</td><td>0.06636</td><td>-0.028676</td><td>0.007811</td><td>0.013243</td><td>0.224537</td><td>1.05095</td></tr><tr><td>2022-12-08</td><td>2.117677</td><td>1.087232</td><td>1.03602</td><td>0.847462</td><td>0.679193</td><td>0.5868</td><td>0.683099</td><td>0.507113</td><td>0.12095</td><td>-0.279584</td><td>-2.397261</td></tr><tr><td>2014-03-27</td><td>-0.037523</td><td>0.044179</td><td>-0.080662</td><td>-0.290375</td><td>-0.245592</td><td>-0.333817</td><td>-0.252225</td><td>-0.475972</td><td>-0.270735</td><td>-0.241972</td><td>-0.204448</td></tr><tr><td>2018-04-26</td><td>0.69759</td><td>0.457881</td><td>0.526081</td><td>0.396106</td><td>0.419662</td><td>0.302223</td><td>0.461133</td><td>0.292166</td><td>0.683187</td><td>1.049917</td><td>0.352327</td></tr><tr><td>2013-09-19</td><td>-0.165628</td><td>-0.276186</td><td>-0.255258</td><td>-0.329843</td><td>-0.172875</td><td>-0.218092</td><td>-0.20787</td><td>-0.193654</td><td>-0.164717</td><td>0.152855</td><td>0.318483</td></tr><tr><td>2019-03-05</td><td>-1.057841</td><td>-0.71595</td><td>-0.663478</td><td>-0.469244</td><td>-0.354002</td><td>-0.318423</td><td>-0.235266</td><td>-0.451463</td><td>-0.332573</td><td>-0.169694</td><td>0.888147</td></tr><tr><td>1998-02-09</td><td>0.68233</td><td>0.238965</td><td>0.359366</td><td>0.434242</td><td>0.118985</td><td>0.267957</td><td>0.251011</td><td>0.22084</td><td>0.108151</td><td>0.289615</td><td>-0.392715</td></tr><tr><td>2001-08-27</td><td>0.994719</td><td>0.425477</td><td>-0.075604</td><td>-0.223971</td><td>-0.075661</td><td>-0.326938</td><td>-0.237427</td><td>-0.544068</td><td>-0.811262</td><td>-0.793328</td><td>-1.788047</td></tr><tr><td>2011-03-14</td><td>-0.887237</td><td>-0.6305</td><td>-0.523123</td><td>-0.844678</td><td>-0.645629</td><td>-0.722855</td><td>-0.387115</td><td>-0.491549</td><td>-0.62051</td><td>-0.378108</td><td>0.509129</td></tr></tbody></table></div>"
      ],
      "text/plain": [
       "shape: (7_049, 12)\n",
       "┌───────────┬───────────┬───────────┬───────────┬───┬───────────┬───────────┬───────────┬──────────┐\n",
       "│ date      ┆ 0         ┆ 1         ┆ 2         ┆ … ┆ 7         ┆ 8         ┆ 9         ┆ spread   │\n",
       "│ ---       ┆ ---       ┆ ---       ┆ ---       ┆   ┆ ---       ┆ ---       ┆ ---       ┆ ---      │\n",
       "│ date      ┆ f64       ┆ f64       ┆ f64       ┆   ┆ f64       ┆ f64       ┆ f64       ┆ f64      │\n",
       "╞═══════════╪═══════════╪═══════════╪═══════════╪═══╪═══════════╪═══════════╪═══════════╪══════════╡\n",
       "│ 2015-06-2 ┆ -0.146325 ┆ -0.057051 ┆ -0.143258 ┆ … ┆ 0.068994  ┆ -0.042044 ┆ -0.749446 ┆ -0.60312 │\n",
       "│ 6         ┆           ┆           ┆           ┆   ┆           ┆           ┆           ┆ 1        │\n",
       "│ 2010-01-2 ┆ 1.211546  ┆ 1.201553  ┆ 0.82576   ┆ … ┆ 0.867357  ┆ 0.864269  ┆ 0.591355  ┆ -0.62019 │\n",
       "│ 7         ┆           ┆           ┆           ┆   ┆           ┆           ┆           ┆ 1        │\n",
       "│ 2006-02-0 ┆ 0.664735  ┆ 0.550214  ┆ 0.751343  ┆ … ┆ 0.419725  ┆ 0.415098  ┆ 0.545862  ┆ -0.11887 │\n",
       "│ 8         ┆           ┆           ┆           ┆   ┆           ┆           ┆           ┆ 3        │\n",
       "│ 1998-10-1 ┆ 1.386188  ┆ 1.278552  ┆ 1.199209  ┆ … ┆ 1.506756  ┆ 1.914452  ┆ 1.847842  ┆ 0.461654 │\n",
       "│ 4         ┆           ┆           ┆           ┆   ┆           ┆           ┆           ┆          │\n",
       "│ 2020-05-1 ┆ -6.709237 ┆ -4.618455 ┆ -3.873532 ┆ … ┆ -2.44375  ┆ -2.049254 ┆ -2.227681 ┆ 4.481556 │\n",
       "│ 3         ┆           ┆           ┆           ┆   ┆           ┆           ┆           ┆          │\n",
       "│ 2012-02-2 ┆ -0.300543 ┆ -0.368694 ┆ 0.017153  ┆ … ┆ -0.285542 ┆ -0.218737 ┆ 0.079758  ┆ 0.380302 │\n",
       "│ 4         ┆           ┆           ┆           ┆   ┆           ┆           ┆           ┆          │\n",
       "│ 2018-08-1 ┆ -0.594969 ┆ -0.517211 ┆ -0.547897 ┆ … ┆ -0.21083  ┆ -0.133511 ┆ 0.678037  ┆ 1.273006 │\n",
       "│ 0         ┆           ┆           ┆           ┆   ┆           ┆           ┆           ┆          │\n",
       "│ 2002-10-1 ┆ -3.752634 ┆ -3.863776 ┆ -2.990966 ┆ … ┆ -2.062317 ┆ -1.735714 ┆ -2.071393 ┆ 1.681241 │\n",
       "│ 6         ┆           ┆           ┆           ┆   ┆           ┆           ┆           ┆          │\n",
       "│ 2003-05-2 ┆ 3.409263  ┆ 2.577635  ┆ 2.169694  ┆ … ┆ 1.537538  ┆ 1.503317  ┆ 2.170545  ┆ -1.23871 │\n",
       "│ 7         ┆           ┆           ┆           ┆   ┆           ┆           ┆           ┆ 8        │\n",
       "│ 2015-03-1 ┆ 0.222498  ┆ 0.060165  ┆ 0.167436  ┆ … ┆ 0.049337  ┆ 0.138989  ┆ 0.349027  ┆ 0.12653  │\n",
       "│ 7         ┆           ┆           ┆           ┆   ┆           ┆           ┆           ┆          │\n",
       "│ …         ┆ …         ┆ …         ┆ …         ┆ … ┆ …         ┆ …         ┆ …         ┆ …        │\n",
       "│ 2000-02-1 ┆ 1.346465  ┆ 0.268928  ┆ 0.260148  ┆ … ┆ 0.848941  ┆ 0.845203  ┆ 0.521531  ┆ -0.82493 │\n",
       "│ 4         ┆           ┆           ┆           ┆   ┆           ┆           ┆           ┆ 4        │\n",
       "│ 2014-11-2 ┆ -0.826414 ┆ -0.106025 ┆ -0.042353 ┆ … ┆ 0.007811  ┆ 0.013243  ┆ 0.224537  ┆ 1.05095  │\n",
       "│ 5         ┆           ┆           ┆           ┆   ┆           ┆           ┆           ┆          │\n",
       "│ 2022-12-0 ┆ 2.117677  ┆ 1.087232  ┆ 1.03602   ┆ … ┆ 0.507113  ┆ 0.12095   ┆ -0.279584 ┆ -2.39726 │\n",
       "│ 8         ┆           ┆           ┆           ┆   ┆           ┆           ┆           ┆ 1        │\n",
       "│ 2014-03-2 ┆ -0.037523 ┆ 0.044179  ┆ -0.080662 ┆ … ┆ -0.475972 ┆ -0.270735 ┆ -0.241972 ┆ -0.20444 │\n",
       "│ 7         ┆           ┆           ┆           ┆   ┆           ┆           ┆           ┆ 8        │\n",
       "│ 2018-04-2 ┆ 0.69759   ┆ 0.457881  ┆ 0.526081  ┆ … ┆ 0.292166  ┆ 0.683187  ┆ 1.049917  ┆ 0.352327 │\n",
       "│ 6         ┆           ┆           ┆           ┆   ┆           ┆           ┆           ┆          │\n",
       "│ 2013-09-1 ┆ -0.165628 ┆ -0.276186 ┆ -0.255258 ┆ … ┆ -0.193654 ┆ -0.164717 ┆ 0.152855  ┆ 0.318483 │\n",
       "│ 9         ┆           ┆           ┆           ┆   ┆           ┆           ┆           ┆          │\n",
       "│ 2019-03-0 ┆ -1.057841 ┆ -0.71595  ┆ -0.663478 ┆ … ┆ -0.451463 ┆ -0.332573 ┆ -0.169694 ┆ 0.888147 │\n",
       "│ 5         ┆           ┆           ┆           ┆   ┆           ┆           ┆           ┆          │\n",
       "│ 1998-02-0 ┆ 0.68233   ┆ 0.238965  ┆ 0.359366  ┆ … ┆ 0.22084   ┆ 0.108151  ┆ 0.289615  ┆ -0.39271 │\n",
       "│ 9         ┆           ┆           ┆           ┆   ┆           ┆           ┆           ┆ 5        │\n",
       "│ 2001-08-2 ┆ 0.994719  ┆ 0.425477  ┆ -0.075604 ┆ … ┆ -0.544068 ┆ -0.811262 ┆ -0.793328 ┆ -1.78804 │\n",
       "│ 7         ┆           ┆           ┆           ┆   ┆           ┆           ┆           ┆ 7        │\n",
       "│ 2011-03-1 ┆ -0.887237 ┆ -0.6305   ┆ -0.523123 ┆ … ┆ -0.491549 ┆ -0.62051  ┆ -0.378108 ┆ 0.509129 │\n",
       "│ 4         ┆           ┆           ┆           ┆   ┆           ┆           ┆           ┆          │\n",
       "└───────────┴───────────┴───────────┴───────────┴───┴───────────┴───────────┴───────────┴──────────┘"
      ]
     },
     "execution_count": 70,
     "metadata": {},
     "output_type": "execute_result"
    }
   ],
   "source": [
    "def task_equal_weight_portfolios(momentum_bins: pl.DataFrame) -> pl.DataFrame:\n",
    "    \"\"\"\n",
    "    Compute the equal weight return for each bin on each date.\n",
    "    \n",
    "    Args:\n",
    "        momentum_bins (pl.DataFrame): Data frame with columns date, barrid, price, return, momentum, and bin columns.\n",
    "    \n",
    "    Returns:\n",
    "        pl.DataFrame: Data frame with date as the index, bins as the columns, and returns as the values.\n",
    "    \"\"\"\n",
    "    momentum_bins = momentum_bins.clone()\n",
    "    momentum_bins = momentum_bins.group_by([\"date\", \"bin\"]).agg(pl.col(\"return\").mean()).pivot(index=\"date\", columns=\"bin\", values=\"return\").with_columns((pl.col(\"9\") - pl.col(\"0\")).alias(\"spread\"))\n",
    "    portfolios = [column for column in momentum_bins.columns]\n",
    "    portfolios.remove(\"date\")\n",
    "    return momentum_bins.select([\"date\"] + sorted(portfolios))\n",
    "\n",
    "\n",
    "momentum_portfolios = task_equal_weight_portfolios(momentum_bins)\n",
    "\n",
    "momentum_portfolios"
   ]
  },
  {
   "cell_type": "markdown",
   "id": "aee5d3c0",
   "metadata": {},
   "source": [
    "## Portfolio Returns\n",
    "\n",
    "Compute the cumulative returns of each bin.\n",
    "\n",
    "### Instructions\n",
    "- Use the `.unpivot()` method to put our data frame back into long format.\n",
    "- Compute the cumulative log return.\n",
    "- Put the return columns into percent space by multiplying by 100."
   ]
  },
  {
   "cell_type": "code",
   "execution_count": 75,
   "id": "bcbe8423",
   "metadata": {},
   "outputs": [
    {
     "data": {
      "text/html": [
       "<div><style>\n",
       ".dataframe > thead > tr,\n",
       ".dataframe > tbody > tr {\n",
       "  text-align: right;\n",
       "  white-space: pre-wrap;\n",
       "}\n",
       "</style>\n",
       "<small>shape: (77_539, 4)</small><table border=\"1\" class=\"dataframe\"><thead><tr><th>date</th><th>bin</th><th>return</th><th>cumulative_log_return</th></tr><tr><td>date</td><td>str</td><td>f64</td><td>f64</td></tr></thead><tbody><tr><td>1996-12-27</td><td>&quot;0&quot;</td><td>-0.092957</td><td>-0.00093</td></tr><tr><td>1996-12-27</td><td>&quot;1&quot;</td><td>0.286947</td><td>0.002865</td></tr><tr><td>1996-12-27</td><td>&quot;2&quot;</td><td>0.339928</td><td>0.003394</td></tr><tr><td>1996-12-27</td><td>&quot;3&quot;</td><td>0.456358</td><td>0.004553</td></tr><tr><td>1996-12-27</td><td>&quot;4&quot;</td><td>0.393278</td><td>0.003925</td></tr><tr><td>1996-12-27</td><td>&quot;5&quot;</td><td>0.585244</td><td>0.005835</td></tr><tr><td>1996-12-27</td><td>&quot;6&quot;</td><td>0.296748</td><td>0.002963</td></tr><tr><td>1996-12-27</td><td>&quot;7&quot;</td><td>0.352988</td><td>0.003524</td></tr><tr><td>1996-12-27</td><td>&quot;8&quot;</td><td>0.37094</td><td>0.003703</td></tr><tr><td>1996-12-27</td><td>&quot;9&quot;</td><td>-0.089666</td><td>-0.000897</td></tr><tr><td>&hellip;</td><td>&hellip;</td><td>&hellip;</td><td>&hellip;</td></tr><tr><td>2024-12-31</td><td>&quot;1&quot;</td><td>0.915269</td><td>1.94652</td></tr><tr><td>2024-12-31</td><td>&quot;2&quot;</td><td>0.372573</td><td>2.152195</td></tr><tr><td>2024-12-31</td><td>&quot;3&quot;</td><td>0.476806</td><td>2.872217</td></tr><tr><td>2024-12-31</td><td>&quot;4&quot;</td><td>0.484061</td><td>2.687194</td></tr><tr><td>2024-12-31</td><td>&quot;5&quot;</td><td>0.161918</td><td>3.024893</td></tr><tr><td>2024-12-31</td><td>&quot;6&quot;</td><td>0.181663</td><td>2.947338</td></tr><tr><td>2024-12-31</td><td>&quot;7&quot;</td><td>0.086263</td><td>3.323722</td></tr><tr><td>2024-12-31</td><td>&quot;8&quot;</td><td>-0.048322</td><td>3.524804</td></tr><tr><td>2024-12-31</td><td>&quot;9&quot;</td><td>-0.459466</td><td>3.945145</td></tr><tr><td>2024-12-31</td><td>&quot;spread&quot;</td><td>-1.406193</td><td>2.294792</td></tr></tbody></table></div>"
      ],
      "text/plain": [
       "shape: (77_539, 4)\n",
       "┌────────────┬────────┬───────────┬───────────────────────┐\n",
       "│ date       ┆ bin    ┆ return    ┆ cumulative_log_return │\n",
       "│ ---        ┆ ---    ┆ ---       ┆ ---                   │\n",
       "│ date       ┆ str    ┆ f64       ┆ f64                   │\n",
       "╞════════════╪════════╪═══════════╪═══════════════════════╡\n",
       "│ 1996-12-27 ┆ 0      ┆ -0.092957 ┆ -0.00093              │\n",
       "│ 1996-12-27 ┆ 1      ┆ 0.286947  ┆ 0.002865              │\n",
       "│ 1996-12-27 ┆ 2      ┆ 0.339928  ┆ 0.003394              │\n",
       "│ 1996-12-27 ┆ 3      ┆ 0.456358  ┆ 0.004553              │\n",
       "│ 1996-12-27 ┆ 4      ┆ 0.393278  ┆ 0.003925              │\n",
       "│ 1996-12-27 ┆ 5      ┆ 0.585244  ┆ 0.005835              │\n",
       "│ 1996-12-27 ┆ 6      ┆ 0.296748  ┆ 0.002963              │\n",
       "│ 1996-12-27 ┆ 7      ┆ 0.352988  ┆ 0.003524              │\n",
       "│ 1996-12-27 ┆ 8      ┆ 0.37094   ┆ 0.003703              │\n",
       "│ 1996-12-27 ┆ 9      ┆ -0.089666 ┆ -0.000897             │\n",
       "│ …          ┆ …      ┆ …         ┆ …                     │\n",
       "│ 2024-12-31 ┆ 1      ┆ 0.915269  ┆ 1.94652               │\n",
       "│ 2024-12-31 ┆ 2      ┆ 0.372573  ┆ 2.152195              │\n",
       "│ 2024-12-31 ┆ 3      ┆ 0.476806  ┆ 2.872217              │\n",
       "│ 2024-12-31 ┆ 4      ┆ 0.484061  ┆ 2.687194              │\n",
       "│ 2024-12-31 ┆ 5      ┆ 0.161918  ┆ 3.024893              │\n",
       "│ 2024-12-31 ┆ 6      ┆ 0.181663  ┆ 2.947338              │\n",
       "│ 2024-12-31 ┆ 7      ┆ 0.086263  ┆ 3.323722              │\n",
       "│ 2024-12-31 ┆ 8      ┆ -0.048322 ┆ 3.524804              │\n",
       "│ 2024-12-31 ┆ 9      ┆ -0.459466 ┆ 3.945145              │\n",
       "│ 2024-12-31 ┆ spread ┆ -1.406193 ┆ 2.294792              │\n",
       "└────────────┴────────┴───────────┴───────────────────────┘"
      ]
     },
     "execution_count": 75,
     "metadata": {},
     "output_type": "execute_result"
    }
   ],
   "source": [
    "def task_cumulative_returns(momentum_portfolios: pl.DataFrame) -> pl.DataFrame:\n",
    "    \"\"\"\n",
    "    Compute the equal weight return for each bin on each date.\n",
    "    \n",
    "    Args:\n",
    "        momentum_portfolios (pl.DataFrame): Data frame with columns date, barrid, price, return, momentum, and bin columns.\n",
    "    \n",
    "    Returns:\n",
    "        pl.DataFrame: Data frame with date, bin, return, and cumulative_log_return columns.\n",
    "    \"\"\"\n",
    "    momentum_portfolios = momentum_portfolios.clone().unpivot(index=\"date\", variable_name=\"bin\", value_name=\"return\").sort(\"date\")\n",
    "    momentum_portfolios = momentum_portfolios.with_columns((pl.col(\"return\")/100 + 1).log().cum_sum().over(\"bin\").alias(\"cumulative_log_return\"))\n",
    "\n",
    "    return momentum_portfolios\n",
    "\n",
    "momentum_returns = task_cumulative_returns(momentum_portfolios)\n",
    "\n",
    "momentum_returns"
   ]
  },
  {
   "cell_type": "markdown",
   "id": "2ad6efdb",
   "metadata": {},
   "source": [
    "## Performance Analysis\n",
    "\n",
    "### Instructions\n",
    "- Chart the cumulative log returns of the 10 decile portfolios and the spread portfolio.\n",
    "- Create a table with average daily return (annualized), volatility (annualized), and sharpe ratio (annualized) for each portfolio."
   ]
  },
  {
   "cell_type": "code",
   "execution_count": null,
   "id": "e37a1f38",
   "metadata": {},
   "outputs": [],
   "source": [
    "plt.plot()"
   ]
  },
  {
   "cell_type": "code",
   "execution_count": null,
   "id": "bd07d426",
   "metadata": {},
   "outputs": [],
   "source": [
    "# TODO: Create a table of summary metrics"
   ]
  },
  {
   "cell_type": "code",
   "execution_count": null,
   "id": "9d6f8a97",
   "metadata": {},
   "outputs": [],
   "source": []
  }
 ],
 "metadata": {
  "kernelspec": {
   "display_name": "sf-quant-labs",
   "language": "python",
   "name": "python3"
  },
  "language_info": {
   "codemirror_mode": {
    "name": "ipython",
    "version": 3
   },
   "file_extension": ".py",
   "mimetype": "text/x-python",
   "name": "python",
   "nbconvert_exporter": "python",
   "pygments_lexer": "ipython3",
   "version": "3.11.7"
  }
 },
 "nbformat": 4,
 "nbformat_minor": 5
}
