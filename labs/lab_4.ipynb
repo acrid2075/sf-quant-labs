{
 "cells": [
  {
   "cell_type": "markdown",
   "id": "18898123",
   "metadata": {},
   "source": [
    "# Lab 4: Momentum II\n",
    "\n",
    "In the last lab we explored how to backtest decile portfolio style trading strategies. In this lab we will explore how to backtest portfolios that are optimized each period to maximize alpha while minimizing variance. "
   ]
  },
  {
   "cell_type": "markdown",
   "id": "99c1f288",
   "metadata": {},
   "source": [
    "## Imports"
   ]
  },
  {
   "cell_type": "code",
   "execution_count": 1,
   "id": "3319359d",
   "metadata": {},
   "outputs": [
    {
     "name": "stderr",
     "output_type": "stream",
     "text": [
      "/home/acriddl2/Projects/sf-quant-labs/.venv/lib64/python3.11/site-packages/tqdm/auto.py:21: TqdmWarning: IProgress not found. Please update jupyter and ipywidgets. See https://ipywidgets.readthedocs.io/en/stable/user_install.html\n",
      "  from .autonotebook import tqdm as notebook_tqdm\n",
      "2025-09-17 15:07:05,443\tINFO util.py:154 -- Missing packages: ['ipywidgets']. Run `pip install -U ipywidgets`, then restart the notebook server for rich notebook output.\n"
     ]
    }
   ],
   "source": [
    "import sf_quant.data as sfd\n",
    "import sf_quant.optimizer as sfo\n",
    "import sf_quant.backtester as sfb\n",
    "import sf_quant.performance as sfp\n",
    "import polars as pl\n",
    "import datetime as dt\n",
    "import matplotlib.pyplot as plt\n",
    "import seaborn as sns\n",
    "import tqdm"
   ]
  },
  {
   "cell_type": "markdown",
   "id": "6fa4f703",
   "metadata": {},
   "source": [
    "## Data\n",
    "\n",
    "We import the necessary data for you here. We will be doing a backtest from 2023-01-01 to 2024-01-31. However since our signal takes 1 year to compute, we will really only be backtesting 1 month of data."
   ]
  },
  {
   "cell_type": "code",
   "execution_count": 2,
   "id": "f97a4213",
   "metadata": {},
   "outputs": [
    {
     "data": {
      "text/html": [
       "<div><style>\n",
       ".dataframe > thead > tr,\n",
       ".dataframe > tbody > tr {\n",
       "  text-align: right;\n",
       "  white-space: pre-wrap;\n",
       "}\n",
       "</style>\n",
       "<small>shape: (796_990, 7)</small><table border=\"1\" class=\"dataframe\"><thead><tr><th>date</th><th>barrid</th><th>ticker</th><th>price</th><th>return</th><th>specific_risk</th><th>predicted_beta</th></tr><tr><td>date</td><td>str</td><td>str</td><td>f64</td><td>f64</td><td>f64</td><td>f64</td></tr></thead><tbody><tr><td>2023-01-03</td><td>&quot;USA06Z1&quot;</td><td>&quot;MDXG&quot;</td><td>2.97</td><td>6.8345</td><td>47.65898</td><td>1.43155</td></tr><tr><td>2023-01-04</td><td>&quot;USA06Z1&quot;</td><td>&quot;MDXG&quot;</td><td>3.0</td><td>1.0101</td><td>47.539847</td><td>1.428854</td></tr><tr><td>2023-01-05</td><td>&quot;USA06Z1&quot;</td><td>&quot;MDXG&quot;</td><td>3.08</td><td>2.6667</td><td>47.755957</td><td>1.37346</td></tr><tr><td>2023-01-06</td><td>&quot;USA06Z1&quot;</td><td>&quot;MDXG&quot;</td><td>3.21</td><td>4.2208</td><td>48.110135</td><td>1.389274</td></tr><tr><td>2023-01-09</td><td>&quot;USA06Z1&quot;</td><td>&quot;MDXG&quot;</td><td>3.28</td><td>2.1807</td><td>48.612414</td><td>1.348687</td></tr><tr><td>&hellip;</td><td>&hellip;</td><td>&hellip;</td><td>&hellip;</td><td>&hellip;</td><td>&hellip;</td><td>&hellip;</td></tr><tr><td>2024-01-25</td><td>&quot;USBPM41&quot;</td><td>&quot;WS&quot;</td><td>29.38</td><td>-0.3054</td><td>50.968819</td><td>1.408389</td></tr><tr><td>2024-01-26</td><td>&quot;USBPM41&quot;</td><td>&quot;WS&quot;</td><td>29.58</td><td>0.6807</td><td>50.922137</td><td>1.40225</td></tr><tr><td>2024-01-29</td><td>&quot;USBPM41&quot;</td><td>&quot;WS&quot;</td><td>30.28</td><td>2.3665</td><td>50.93332</td><td>1.395143</td></tr><tr><td>2024-01-30</td><td>&quot;USBPM41&quot;</td><td>&quot;WS&quot;</td><td>30.64</td><td>1.1889</td><td>50.438011</td><td>1.380131</td></tr><tr><td>2024-01-31</td><td>&quot;USBPM41&quot;</td><td>&quot;WS&quot;</td><td>29.95</td><td>-2.252</td><td>50.111001</td><td>1.343932</td></tr></tbody></table></div>"
      ],
      "text/plain": [
       "shape: (796_990, 7)\n",
       "┌────────────┬─────────┬────────┬───────┬─────────┬───────────────┬────────────────┐\n",
       "│ date       ┆ barrid  ┆ ticker ┆ price ┆ return  ┆ specific_risk ┆ predicted_beta │\n",
       "│ ---        ┆ ---     ┆ ---    ┆ ---   ┆ ---     ┆ ---           ┆ ---            │\n",
       "│ date       ┆ str     ┆ str    ┆ f64   ┆ f64     ┆ f64           ┆ f64            │\n",
       "╞════════════╪═════════╪════════╪═══════╪═════════╪═══════════════╪════════════════╡\n",
       "│ 2023-01-03 ┆ USA06Z1 ┆ MDXG   ┆ 2.97  ┆ 6.8345  ┆ 47.65898      ┆ 1.43155        │\n",
       "│ 2023-01-04 ┆ USA06Z1 ┆ MDXG   ┆ 3.0   ┆ 1.0101  ┆ 47.539847     ┆ 1.428854       │\n",
       "│ 2023-01-05 ┆ USA06Z1 ┆ MDXG   ┆ 3.08  ┆ 2.6667  ┆ 47.755957     ┆ 1.37346        │\n",
       "│ 2023-01-06 ┆ USA06Z1 ┆ MDXG   ┆ 3.21  ┆ 4.2208  ┆ 48.110135     ┆ 1.389274       │\n",
       "│ 2023-01-09 ┆ USA06Z1 ┆ MDXG   ┆ 3.28  ┆ 2.1807  ┆ 48.612414     ┆ 1.348687       │\n",
       "│ …          ┆ …       ┆ …      ┆ …     ┆ …       ┆ …             ┆ …              │\n",
       "│ 2024-01-25 ┆ USBPM41 ┆ WS     ┆ 29.38 ┆ -0.3054 ┆ 50.968819     ┆ 1.408389       │\n",
       "│ 2024-01-26 ┆ USBPM41 ┆ WS     ┆ 29.58 ┆ 0.6807  ┆ 50.922137     ┆ 1.40225        │\n",
       "│ 2024-01-29 ┆ USBPM41 ┆ WS     ┆ 30.28 ┆ 2.3665  ┆ 50.93332      ┆ 1.395143       │\n",
       "│ 2024-01-30 ┆ USBPM41 ┆ WS     ┆ 30.64 ┆ 1.1889  ┆ 50.438011     ┆ 1.380131       │\n",
       "│ 2024-01-31 ┆ USBPM41 ┆ WS     ┆ 29.95 ┆ -2.252  ┆ 50.111001     ┆ 1.343932       │\n",
       "└────────────┴─────────┴────────┴───────┴─────────┴───────────────┴────────────────┘"
      ]
     },
     "execution_count": 2,
     "metadata": {},
     "output_type": "execute_result"
    }
   ],
   "source": [
    "start = dt.date(2023, 1, 1)\n",
    "end = dt.date(2024, 1, 31)\n",
    "\n",
    "columns = [\n",
    "    'date',\n",
    "    'barrid',\n",
    "    'ticker',\n",
    "    'price',\n",
    "    'return',\n",
    "    'specific_risk',\n",
    "    'predicted_beta'\n",
    "]\n",
    "\n",
    "data = sfd.load_assets(\n",
    "    start=start,\n",
    "    end=end,\n",
    "    in_universe=True,\n",
    "    columns=columns\n",
    ")\n",
    "\n",
    "data"
   ]
  },
  {
   "cell_type": "markdown",
   "id": "d4b6583f",
   "metadata": {},
   "source": [
    "## Compute the Momentum Signal\n",
    "\n",
    "## Instructions\n",
    "\n",
    "- Compute momentum for each security and date as the rolling 230 day return (you can just use log returns here).\n",
    "- Shift the momentum signal 22 days. This will results in the 11 month return from t-12 to t-2."
   ]
  },
  {
   "cell_type": "code",
   "execution_count": 3,
   "id": "10e368fb",
   "metadata": {},
   "outputs": [
    {
     "data": {
      "text/html": [
       "<div><style>\n",
       ".dataframe > thead > tr,\n",
       ".dataframe > tbody > tr {\n",
       "  text-align: right;\n",
       "  white-space: pre-wrap;\n",
       "}\n",
       "</style>\n",
       "<small>shape: (52_865, 8)</small><table border=\"1\" class=\"dataframe\"><thead><tr><th>date</th><th>barrid</th><th>ticker</th><th>price</th><th>return</th><th>specific_risk</th><th>predicted_beta</th><th>momentum</th></tr><tr><td>date</td><td>str</td><td>str</td><td>f64</td><td>f64</td><td>f64</td><td>f64</td><td>f64</td></tr></thead><tbody><tr><td>2024-01-03</td><td>&quot;USA06Z1&quot;</td><td>&quot;MDXG&quot;</td><td>7.775</td><td>-1.2071</td><td>49.827621</td><td>1.092049</td><td>1.027828</td></tr><tr><td>2024-01-04</td><td>&quot;USA06Z1&quot;</td><td>&quot;MDXG&quot;</td><td>7.76</td><td>-0.1929</td><td>49.746256</td><td>1.098982</td><td>0.989638</td></tr><tr><td>2024-01-05</td><td>&quot;USA06Z1&quot;</td><td>&quot;MDXG&quot;</td><td>7.8</td><td>0.5155</td><td>49.535456</td><td>1.063097</td><td>0.979587</td></tr><tr><td>2024-01-08</td><td>&quot;USA06Z1&quot;</td><td>&quot;MDXG&quot;</td><td>8.22</td><td>5.3846</td><td>49.435238</td><td>1.085788</td><td>0.936866</td></tr><tr><td>2024-01-09</td><td>&quot;USA06Z1&quot;</td><td>&quot;MDXG&quot;</td><td>8.03</td><td>-2.3114</td><td>49.468538</td><td>1.182189</td><td>0.896796</td></tr><tr><td>2024-01-10</td><td>&quot;USA06Z1&quot;</td><td>&quot;MDXG&quot;</td><td>8.1</td><td>0.8717</td><td>49.402579</td><td>1.208223</td><td>0.882818</td></tr><tr><td>2024-01-11</td><td>&quot;USA06Z1&quot;</td><td>&quot;MDXG&quot;</td><td>8.04</td><td>-0.7407</td><td>49.324236</td><td>1.232689</td><td>0.853987</td></tr><tr><td>2024-01-12</td><td>&quot;USA06Z1&quot;</td><td>&quot;MDXG&quot;</td><td>8.04</td><td>0.0</td><td>49.150153</td><td>1.230763</td><td>0.847307</td></tr><tr><td>2024-01-16</td><td>&quot;USA06Z1&quot;</td><td>&quot;MDXG&quot;</td><td>8.08</td><td>0.4975</td><td>49.037617</td><td>1.137885</td><td>0.826331</td></tr><tr><td>2024-01-17</td><td>&quot;USA06Z1&quot;</td><td>&quot;MDXG&quot;</td><td>8.35</td><td>3.3416</td><td>48.946023</td><td>1.164485</td><td>0.896639</td></tr><tr><td>&hellip;</td><td>&hellip;</td><td>&hellip;</td><td>&hellip;</td><td>&hellip;</td><td>&hellip;</td><td>&hellip;</td><td>&hellip;</td></tr><tr><td>2024-01-22</td><td>&quot;USBONP1&quot;</td><td>&quot;MBC&quot;</td><td>14.76</td><td>2.5712</td><td>32.085215</td><td>1.32325</td><td>0.613148</td></tr><tr><td>2024-01-23</td><td>&quot;USBONP1&quot;</td><td>&quot;MBC&quot;</td><td>14.32</td><td>-2.981</td><td>32.021971</td><td>1.313646</td><td>0.598009</td></tr><tr><td>2024-01-24</td><td>&quot;USBONP1&quot;</td><td>&quot;MBC&quot;</td><td>14.17</td><td>-1.0475</td><td>31.947882</td><td>1.30609</td><td>0.552557</td></tr><tr><td>2024-01-25</td><td>&quot;USBONP1&quot;</td><td>&quot;MBC&quot;</td><td>14.4</td><td>1.6231</td><td>31.878639</td><td>1.355098</td><td>0.525051</td></tr><tr><td>2024-01-26</td><td>&quot;USBONP1&quot;</td><td>&quot;MBC&quot;</td><td>14.33</td><td>-0.4861</td><td>31.830821</td><td>1.370824</td><td>0.516839</td></tr><tr><td>2024-01-29</td><td>&quot;USBONP1&quot;</td><td>&quot;MBC&quot;</td><td>14.65</td><td>2.2331</td><td>31.740028</td><td>1.346623</td><td>0.526594</td></tr><tr><td>2024-01-30</td><td>&quot;USBONP1&quot;</td><td>&quot;MBC&quot;</td><td>14.59</td><td>-0.4096</td><td>31.712842</td><td>1.334121</td><td>0.502256</td></tr><tr><td>2024-01-31</td><td>&quot;USBONP1&quot;</td><td>&quot;MBC&quot;</td><td>14.07</td><td>-3.5641</td><td>31.686111</td><td>1.356568</td><td>0.521707</td></tr><tr><td>2024-01-31</td><td>&quot;USBOOA1&quot;</td><td>&quot;GEHC&quot;</td><td>73.36</td><td>-0.8649</td><td>24.130635</td><td>1.023964</td><td>0.082302</td></tr><tr><td>2024-01-31</td><td>&quot;USBOQH1&quot;</td><td>&quot;VTS&quot;</td><td>21.01</td><td>-3.3134</td><td>32.931173</td><td>0.997244</td><td>0.46301</td></tr></tbody></table></div>"
      ],
      "text/plain": [
       "shape: (52_865, 8)\n",
       "┌────────────┬─────────┬────────┬───────┬─────────┬───────────────┬────────────────┬──────────┐\n",
       "│ date       ┆ barrid  ┆ ticker ┆ price ┆ return  ┆ specific_risk ┆ predicted_beta ┆ momentum │\n",
       "│ ---        ┆ ---     ┆ ---    ┆ ---   ┆ ---     ┆ ---           ┆ ---            ┆ ---      │\n",
       "│ date       ┆ str     ┆ str    ┆ f64   ┆ f64     ┆ f64           ┆ f64            ┆ f64      │\n",
       "╞════════════╪═════════╪════════╪═══════╪═════════╪═══════════════╪════════════════╪══════════╡\n",
       "│ 2024-01-03 ┆ USA06Z1 ┆ MDXG   ┆ 7.775 ┆ -1.2071 ┆ 49.827621     ┆ 1.092049       ┆ 1.027828 │\n",
       "│ 2024-01-04 ┆ USA06Z1 ┆ MDXG   ┆ 7.76  ┆ -0.1929 ┆ 49.746256     ┆ 1.098982       ┆ 0.989638 │\n",
       "│ 2024-01-05 ┆ USA06Z1 ┆ MDXG   ┆ 7.8   ┆ 0.5155  ┆ 49.535456     ┆ 1.063097       ┆ 0.979587 │\n",
       "│ 2024-01-08 ┆ USA06Z1 ┆ MDXG   ┆ 8.22  ┆ 5.3846  ┆ 49.435238     ┆ 1.085788       ┆ 0.936866 │\n",
       "│ 2024-01-09 ┆ USA06Z1 ┆ MDXG   ┆ 8.03  ┆ -2.3114 ┆ 49.468538     ┆ 1.182189       ┆ 0.896796 │\n",
       "│ 2024-01-10 ┆ USA06Z1 ┆ MDXG   ┆ 8.1   ┆ 0.8717  ┆ 49.402579     ┆ 1.208223       ┆ 0.882818 │\n",
       "│ 2024-01-11 ┆ USA06Z1 ┆ MDXG   ┆ 8.04  ┆ -0.7407 ┆ 49.324236     ┆ 1.232689       ┆ 0.853987 │\n",
       "│ 2024-01-12 ┆ USA06Z1 ┆ MDXG   ┆ 8.04  ┆ 0.0     ┆ 49.150153     ┆ 1.230763       ┆ 0.847307 │\n",
       "│ 2024-01-16 ┆ USA06Z1 ┆ MDXG   ┆ 8.08  ┆ 0.4975  ┆ 49.037617     ┆ 1.137885       ┆ 0.826331 │\n",
       "│ 2024-01-17 ┆ USA06Z1 ┆ MDXG   ┆ 8.35  ┆ 3.3416  ┆ 48.946023     ┆ 1.164485       ┆ 0.896639 │\n",
       "│ …          ┆ …       ┆ …      ┆ …     ┆ …       ┆ …             ┆ …              ┆ …        │\n",
       "│ 2024-01-22 ┆ USBONP1 ┆ MBC    ┆ 14.76 ┆ 2.5712  ┆ 32.085215     ┆ 1.32325        ┆ 0.613148 │\n",
       "│ 2024-01-23 ┆ USBONP1 ┆ MBC    ┆ 14.32 ┆ -2.981  ┆ 32.021971     ┆ 1.313646       ┆ 0.598009 │\n",
       "│ 2024-01-24 ┆ USBONP1 ┆ MBC    ┆ 14.17 ┆ -1.0475 ┆ 31.947882     ┆ 1.30609        ┆ 0.552557 │\n",
       "│ 2024-01-25 ┆ USBONP1 ┆ MBC    ┆ 14.4  ┆ 1.6231  ┆ 31.878639     ┆ 1.355098       ┆ 0.525051 │\n",
       "│ 2024-01-26 ┆ USBONP1 ┆ MBC    ┆ 14.33 ┆ -0.4861 ┆ 31.830821     ┆ 1.370824       ┆ 0.516839 │\n",
       "│ 2024-01-29 ┆ USBONP1 ┆ MBC    ┆ 14.65 ┆ 2.2331  ┆ 31.740028     ┆ 1.346623       ┆ 0.526594 │\n",
       "│ 2024-01-30 ┆ USBONP1 ┆ MBC    ┆ 14.59 ┆ -0.4096 ┆ 31.712842     ┆ 1.334121       ┆ 0.502256 │\n",
       "│ 2024-01-31 ┆ USBONP1 ┆ MBC    ┆ 14.07 ┆ -3.5641 ┆ 31.686111     ┆ 1.356568       ┆ 0.521707 │\n",
       "│ 2024-01-31 ┆ USBOOA1 ┆ GEHC   ┆ 73.36 ┆ -0.8649 ┆ 24.130635     ┆ 1.023964       ┆ 0.082302 │\n",
       "│ 2024-01-31 ┆ USBOQH1 ┆ VTS    ┆ 21.01 ┆ -3.3134 ┆ 32.931173     ┆ 0.997244       ┆ 0.46301  │\n",
       "└────────────┴─────────┴────────┴───────┴─────────┴───────────────┴────────────────┴──────────┘"
      ]
     },
     "execution_count": 3,
     "metadata": {},
     "output_type": "execute_result"
    }
   ],
   "source": [
    "def task_compute_momentum(data: pl.DataFrame) -> pl.DataFrame:\n",
    "    \"\"\"\n",
    "    Compute the t_12 to t_2 momentum signal for each security and date combination.\n",
    "    \n",
    "    Args:\n",
    "        data (pl.DataFrame): Data frame containing date, barrid, price, and return columns.\n",
    "    \n",
    "    Returns:\n",
    "        pl.DataFrame: Data frame with columns date, barrid, price, return, and momentum columns.\n",
    "    \"\"\"\n",
    "    data = data.clone().with_columns((pl.col('return')/100 + 1).log().rolling_sum(230).shift(22).over(\"barrid\").alias(\"momentum\"))\n",
    "    return data.drop_nulls()\n",
    "pl.Config.set_tbl_rows(20)\n",
    "momentum = task_compute_momentum(data)\n",
    "\n",
    "momentum"
   ]
  },
  {
   "cell_type": "markdown",
   "id": "103df9e3",
   "metadata": {},
   "source": [
    "## Compute the Alphas\n",
    "\n",
    "In order to make our momentum signal usable in our optimizer we will use a predetermined Information Coefficient of 0.05 and the forecasted idiosyncratic risk provided by Barra to convert our signal into alpha forecasts.\n",
    "\n",
    "### Instructions\n",
    "- For each date z-score the momentum signal across all assets cross sectionally and call this `score`.\n",
    "- Using the `specific_risk` column compute the alphas as `0.05` * `score` * `specific_risk`.\n",
    "- Note: Make sure to divide `specific_risk` by 100 to put it in decimal space. "
   ]
  },
  {
   "cell_type": "code",
   "execution_count": 4,
   "id": "a9ce3c12",
   "metadata": {},
   "outputs": [
    {
     "data": {
      "text/html": [
       "<div><style>\n",
       ".dataframe > thead > tr,\n",
       ".dataframe > tbody > tr {\n",
       "  text-align: right;\n",
       "  white-space: pre-wrap;\n",
       "}\n",
       "</style>\n",
       "<small>shape: (52_865, 10)</small><table border=\"1\" class=\"dataframe\"><thead><tr><th>date</th><th>barrid</th><th>ticker</th><th>price</th><th>return</th><th>specific_risk</th><th>predicted_beta</th><th>momentum</th><th>score</th><th>alpha</th></tr><tr><td>date</td><td>str</td><td>str</td><td>f64</td><td>f64</td><td>f64</td><td>f64</td><td>f64</td><td>f64</td><td>f64</td></tr></thead><tbody><tr><td>2024-01-03</td><td>&quot;USA06Z1&quot;</td><td>&quot;MDXG&quot;</td><td>7.775</td><td>-1.2071</td><td>49.827621</td><td>1.092049</td><td>1.027828</td><td>2.291715</td><td>0.057095</td></tr><tr><td>2024-01-04</td><td>&quot;USA06Z1&quot;</td><td>&quot;MDXG&quot;</td><td>7.76</td><td>-0.1929</td><td>49.746256</td><td>1.098982</td><td>0.989638</td><td>2.186411</td><td>0.054383</td></tr><tr><td>2024-01-05</td><td>&quot;USA06Z1&quot;</td><td>&quot;MDXG&quot;</td><td>7.8</td><td>0.5155</td><td>49.535456</td><td>1.063097</td><td>0.979587</td><td>2.186923</td><td>0.054165</td></tr><tr><td>2024-01-08</td><td>&quot;USA06Z1&quot;</td><td>&quot;MDXG&quot;</td><td>8.22</td><td>5.3846</td><td>49.435238</td><td>1.085788</td><td>0.936866</td><td>2.069079</td><td>0.051143</td></tr><tr><td>2024-01-09</td><td>&quot;USA06Z1&quot;</td><td>&quot;MDXG&quot;</td><td>8.03</td><td>-2.3114</td><td>49.468538</td><td>1.182189</td><td>0.896796</td><td>2.054735</td><td>0.050822</td></tr><tr><td>2024-01-10</td><td>&quot;USA06Z1&quot;</td><td>&quot;MDXG&quot;</td><td>8.1</td><td>0.8717</td><td>49.402579</td><td>1.208223</td><td>0.882818</td><td>2.027264</td><td>0.050076</td></tr><tr><td>2024-01-11</td><td>&quot;USA06Z1&quot;</td><td>&quot;MDXG&quot;</td><td>8.04</td><td>-0.7407</td><td>49.324236</td><td>1.232689</td><td>0.853987</td><td>1.96722</td><td>0.048516</td></tr><tr><td>2024-01-12</td><td>&quot;USA06Z1&quot;</td><td>&quot;MDXG&quot;</td><td>8.04</td><td>0.0</td><td>49.150153</td><td>1.230763</td><td>0.847307</td><td>1.958182</td><td>0.048122</td></tr><tr><td>2024-01-16</td><td>&quot;USA06Z1&quot;</td><td>&quot;MDXG&quot;</td><td>8.08</td><td>0.4975</td><td>49.037617</td><td>1.137885</td><td>0.826331</td><td>1.926794</td><td>0.047243</td></tr><tr><td>2024-01-17</td><td>&quot;USA06Z1&quot;</td><td>&quot;MDXG&quot;</td><td>8.35</td><td>3.3416</td><td>48.946023</td><td>1.164485</td><td>0.896639</td><td>2.052958</td><td>0.050242</td></tr><tr><td>&hellip;</td><td>&hellip;</td><td>&hellip;</td><td>&hellip;</td><td>&hellip;</td><td>&hellip;</td><td>&hellip;</td><td>&hellip;</td><td>&hellip;</td><td>&hellip;</td></tr><tr><td>2024-01-22</td><td>&quot;USBONP1&quot;</td><td>&quot;MBC&quot;</td><td>14.76</td><td>2.5712</td><td>32.085215</td><td>1.32325</td><td>0.613148</td><td>1.32987</td><td>0.021335</td></tr><tr><td>2024-01-23</td><td>&quot;USBONP1&quot;</td><td>&quot;MBC&quot;</td><td>14.32</td><td>-2.981</td><td>32.021971</td><td>1.313646</td><td>0.598009</td><td>1.312013</td><td>0.021007</td></tr><tr><td>2024-01-24</td><td>&quot;USBONP1&quot;</td><td>&quot;MBC&quot;</td><td>14.17</td><td>-1.0475</td><td>31.947882</td><td>1.30609</td><td>0.552557</td><td>1.267123</td><td>0.020241</td></tr><tr><td>2024-01-25</td><td>&quot;USBONP1&quot;</td><td>&quot;MBC&quot;</td><td>14.4</td><td>1.6231</td><td>31.878639</td><td>1.355098</td><td>0.525051</td><td>1.170595</td><td>0.018658</td></tr><tr><td>2024-01-26</td><td>&quot;USBONP1&quot;</td><td>&quot;MBC&quot;</td><td>14.33</td><td>-0.4861</td><td>31.830821</td><td>1.370824</td><td>0.516839</td><td>1.151209</td><td>0.018322</td></tr><tr><td>2024-01-29</td><td>&quot;USBONP1&quot;</td><td>&quot;MBC&quot;</td><td>14.65</td><td>2.2331</td><td>31.740028</td><td>1.346623</td><td>0.526594</td><td>1.172817</td><td>0.018613</td></tr><tr><td>2024-01-30</td><td>&quot;USBONP1&quot;</td><td>&quot;MBC&quot;</td><td>14.59</td><td>-0.4096</td><td>31.712842</td><td>1.334121</td><td>0.502256</td><td>1.122952</td><td>0.017806</td></tr><tr><td>2024-01-31</td><td>&quot;USBONP1&quot;</td><td>&quot;MBC&quot;</td><td>14.07</td><td>-3.5641</td><td>31.686111</td><td>1.356568</td><td>0.521707</td><td>1.151499</td><td>0.018243</td></tr><tr><td>2024-01-31</td><td>&quot;USBOOA1&quot;</td><td>&quot;GEHC&quot;</td><td>73.36</td><td>-0.8649</td><td>24.130635</td><td>1.023964</td><td>0.082302</td><td>0.174131</td><td>0.002101</td></tr><tr><td>2024-01-31</td><td>&quot;USBOQH1&quot;</td><td>&quot;VTS&quot;</td><td>21.01</td><td>-3.3134</td><td>32.931173</td><td>0.997244</td><td>0.46301</td><td>1.020939</td><td>0.01681</td></tr></tbody></table></div>"
      ],
      "text/plain": [
       "shape: (52_865, 10)\n",
       "┌────────────┬─────────┬────────┬───────┬───┬────────────────┬──────────┬──────────┬──────────┐\n",
       "│ date       ┆ barrid  ┆ ticker ┆ price ┆ … ┆ predicted_beta ┆ momentum ┆ score    ┆ alpha    │\n",
       "│ ---        ┆ ---     ┆ ---    ┆ ---   ┆   ┆ ---            ┆ ---      ┆ ---      ┆ ---      │\n",
       "│ date       ┆ str     ┆ str    ┆ f64   ┆   ┆ f64            ┆ f64      ┆ f64      ┆ f64      │\n",
       "╞════════════╪═════════╪════════╪═══════╪═══╪════════════════╪══════════╪══════════╪══════════╡\n",
       "│ 2024-01-03 ┆ USA06Z1 ┆ MDXG   ┆ 7.775 ┆ … ┆ 1.092049       ┆ 1.027828 ┆ 2.291715 ┆ 0.057095 │\n",
       "│ 2024-01-04 ┆ USA06Z1 ┆ MDXG   ┆ 7.76  ┆ … ┆ 1.098982       ┆ 0.989638 ┆ 2.186411 ┆ 0.054383 │\n",
       "│ 2024-01-05 ┆ USA06Z1 ┆ MDXG   ┆ 7.8   ┆ … ┆ 1.063097       ┆ 0.979587 ┆ 2.186923 ┆ 0.054165 │\n",
       "│ 2024-01-08 ┆ USA06Z1 ┆ MDXG   ┆ 8.22  ┆ … ┆ 1.085788       ┆ 0.936866 ┆ 2.069079 ┆ 0.051143 │\n",
       "│ 2024-01-09 ┆ USA06Z1 ┆ MDXG   ┆ 8.03  ┆ … ┆ 1.182189       ┆ 0.896796 ┆ 2.054735 ┆ 0.050822 │\n",
       "│ 2024-01-10 ┆ USA06Z1 ┆ MDXG   ┆ 8.1   ┆ … ┆ 1.208223       ┆ 0.882818 ┆ 2.027264 ┆ 0.050076 │\n",
       "│ 2024-01-11 ┆ USA06Z1 ┆ MDXG   ┆ 8.04  ┆ … ┆ 1.232689       ┆ 0.853987 ┆ 1.96722  ┆ 0.048516 │\n",
       "│ 2024-01-12 ┆ USA06Z1 ┆ MDXG   ┆ 8.04  ┆ … ┆ 1.230763       ┆ 0.847307 ┆ 1.958182 ┆ 0.048122 │\n",
       "│ 2024-01-16 ┆ USA06Z1 ┆ MDXG   ┆ 8.08  ┆ … ┆ 1.137885       ┆ 0.826331 ┆ 1.926794 ┆ 0.047243 │\n",
       "│ 2024-01-17 ┆ USA06Z1 ┆ MDXG   ┆ 8.35  ┆ … ┆ 1.164485       ┆ 0.896639 ┆ 2.052958 ┆ 0.050242 │\n",
       "│ …          ┆ …       ┆ …      ┆ …     ┆ … ┆ …              ┆ …        ┆ …        ┆ …        │\n",
       "│ 2024-01-22 ┆ USBONP1 ┆ MBC    ┆ 14.76 ┆ … ┆ 1.32325        ┆ 0.613148 ┆ 1.32987  ┆ 0.021335 │\n",
       "│ 2024-01-23 ┆ USBONP1 ┆ MBC    ┆ 14.32 ┆ … ┆ 1.313646       ┆ 0.598009 ┆ 1.312013 ┆ 0.021007 │\n",
       "│ 2024-01-24 ┆ USBONP1 ┆ MBC    ┆ 14.17 ┆ … ┆ 1.30609        ┆ 0.552557 ┆ 1.267123 ┆ 0.020241 │\n",
       "│ 2024-01-25 ┆ USBONP1 ┆ MBC    ┆ 14.4  ┆ … ┆ 1.355098       ┆ 0.525051 ┆ 1.170595 ┆ 0.018658 │\n",
       "│ 2024-01-26 ┆ USBONP1 ┆ MBC    ┆ 14.33 ┆ … ┆ 1.370824       ┆ 0.516839 ┆ 1.151209 ┆ 0.018322 │\n",
       "│ 2024-01-29 ┆ USBONP1 ┆ MBC    ┆ 14.65 ┆ … ┆ 1.346623       ┆ 0.526594 ┆ 1.172817 ┆ 0.018613 │\n",
       "│ 2024-01-30 ┆ USBONP1 ┆ MBC    ┆ 14.59 ┆ … ┆ 1.334121       ┆ 0.502256 ┆ 1.122952 ┆ 0.017806 │\n",
       "│ 2024-01-31 ┆ USBONP1 ┆ MBC    ┆ 14.07 ┆ … ┆ 1.356568       ┆ 0.521707 ┆ 1.151499 ┆ 0.018243 │\n",
       "│ 2024-01-31 ┆ USBOOA1 ┆ GEHC   ┆ 73.36 ┆ … ┆ 1.023964       ┆ 0.082302 ┆ 0.174131 ┆ 0.002101 │\n",
       "│ 2024-01-31 ┆ USBOQH1 ┆ VTS    ┆ 21.01 ┆ … ┆ 0.997244       ┆ 0.46301  ┆ 1.020939 ┆ 0.01681  │\n",
       "└────────────┴─────────┴────────┴───────┴───┴────────────────┴──────────┴──────────┴──────────┘"
      ]
     },
     "execution_count": 4,
     "metadata": {},
     "output_type": "execute_result"
    }
   ],
   "source": [
    "def task_compute_alphas(momentum: pl.DataFrame) -> pl.DataFrame:\n",
    "    \"\"\" \n",
    "    Compute the alphas for each security and date combo.\n",
    "\n",
    "    Args:\n",
    "        momentum (pl.DataFrame): Data frame containing barrid, date, specific_risk, and momentum columns.\n",
    "    \n",
    "    Returns:\n",
    "        pl.DataFrame: Data frame containing barrid, date, specific_risk, momentum, score, and alpha columns.\n",
    "    \"\"\"\n",
    "    df = momentum.clone()\n",
    "    df = df.with_columns(((pl.col('momentum') - pl.col('momentum').mean())/pl.col('momentum').std()).over('date').alias('score'))\n",
    "    df = df.with_columns((0.05 * pl.col('specific_risk') / 100 * pl.col('score')).alias('alpha'))\n",
    "    return df\n",
    "\n",
    "alphas = task_compute_alphas(momentum)\n",
    "\n",
    "alphas"
   ]
  },
  {
   "cell_type": "code",
   "execution_count": 5,
   "id": "bdf6eab3",
   "metadata": {},
   "outputs": [
    {
     "data": {
      "text/html": [
       "<div><style>\n",
       ".dataframe > thead > tr,\n",
       ".dataframe > tbody > tr {\n",
       "  text-align: right;\n",
       "  white-space: pre-wrap;\n",
       "}\n",
       "</style>\n",
       "<small>shape: (48_248, 10)</small><table border=\"1\" class=\"dataframe\"><thead><tr><th>date</th><th>barrid</th><th>ticker</th><th>price</th><th>return</th><th>specific_risk</th><th>predicted_beta</th><th>momentum</th><th>score</th><th>alpha</th></tr><tr><td>date</td><td>str</td><td>str</td><td>f64</td><td>f64</td><td>f64</td><td>f64</td><td>f64</td><td>f64</td><td>f64</td></tr></thead><tbody><tr><td>2024-01-04</td><td>&quot;USA06Z1&quot;</td><td>&quot;MDXG&quot;</td><td>7.76</td><td>-0.1929</td><td>49.746256</td><td>1.098982</td><td>0.989638</td><td>2.186411</td><td>0.054383</td></tr><tr><td>2024-01-05</td><td>&quot;USA06Z1&quot;</td><td>&quot;MDXG&quot;</td><td>7.8</td><td>0.5155</td><td>49.535456</td><td>1.063097</td><td>0.979587</td><td>2.186923</td><td>0.054165</td></tr><tr><td>2024-01-08</td><td>&quot;USA06Z1&quot;</td><td>&quot;MDXG&quot;</td><td>8.22</td><td>5.3846</td><td>49.435238</td><td>1.085788</td><td>0.936866</td><td>2.069079</td><td>0.051143</td></tr><tr><td>2024-01-09</td><td>&quot;USA06Z1&quot;</td><td>&quot;MDXG&quot;</td><td>8.03</td><td>-2.3114</td><td>49.468538</td><td>1.182189</td><td>0.896796</td><td>2.054735</td><td>0.050822</td></tr><tr><td>2024-01-10</td><td>&quot;USA06Z1&quot;</td><td>&quot;MDXG&quot;</td><td>8.1</td><td>0.8717</td><td>49.402579</td><td>1.208223</td><td>0.882818</td><td>2.027264</td><td>0.050076</td></tr><tr><td>2024-01-11</td><td>&quot;USA06Z1&quot;</td><td>&quot;MDXG&quot;</td><td>8.04</td><td>-0.7407</td><td>49.324236</td><td>1.232689</td><td>0.853987</td><td>1.96722</td><td>0.048516</td></tr><tr><td>2024-01-12</td><td>&quot;USA06Z1&quot;</td><td>&quot;MDXG&quot;</td><td>8.04</td><td>0.0</td><td>49.150153</td><td>1.230763</td><td>0.847307</td><td>1.958182</td><td>0.048122</td></tr><tr><td>2024-01-16</td><td>&quot;USA06Z1&quot;</td><td>&quot;MDXG&quot;</td><td>8.08</td><td>0.4975</td><td>49.037617</td><td>1.137885</td><td>0.826331</td><td>1.926794</td><td>0.047243</td></tr><tr><td>2024-01-17</td><td>&quot;USA06Z1&quot;</td><td>&quot;MDXG&quot;</td><td>8.35</td><td>3.3416</td><td>48.946023</td><td>1.164485</td><td>0.896639</td><td>2.052958</td><td>0.050242</td></tr><tr><td>2024-01-18</td><td>&quot;USA06Z1&quot;</td><td>&quot;MDXG&quot;</td><td>8.25</td><td>-1.1976</td><td>48.923825</td><td>1.098937</td><td>0.935543</td><td>2.111361</td><td>0.051648</td></tr><tr><td>&hellip;</td><td>&hellip;</td><td>&hellip;</td><td>&hellip;</td><td>&hellip;</td><td>&hellip;</td><td>&hellip;</td><td>&hellip;</td><td>&hellip;</td><td>&hellip;</td></tr><tr><td>2024-01-22</td><td>&quot;USBONP1&quot;</td><td>&quot;MBC&quot;</td><td>14.76</td><td>2.5712</td><td>32.085215</td><td>1.32325</td><td>0.613148</td><td>1.32987</td><td>0.021335</td></tr><tr><td>2024-01-23</td><td>&quot;USBONP1&quot;</td><td>&quot;MBC&quot;</td><td>14.32</td><td>-2.981</td><td>32.021971</td><td>1.313646</td><td>0.598009</td><td>1.312013</td><td>0.021007</td></tr><tr><td>2024-01-24</td><td>&quot;USBONP1&quot;</td><td>&quot;MBC&quot;</td><td>14.17</td><td>-1.0475</td><td>31.947882</td><td>1.30609</td><td>0.552557</td><td>1.267123</td><td>0.020241</td></tr><tr><td>2024-01-25</td><td>&quot;USBONP1&quot;</td><td>&quot;MBC&quot;</td><td>14.4</td><td>1.6231</td><td>31.878639</td><td>1.355098</td><td>0.525051</td><td>1.170595</td><td>0.018658</td></tr><tr><td>2024-01-26</td><td>&quot;USBONP1&quot;</td><td>&quot;MBC&quot;</td><td>14.33</td><td>-0.4861</td><td>31.830821</td><td>1.370824</td><td>0.516839</td><td>1.151209</td><td>0.018322</td></tr><tr><td>2024-01-29</td><td>&quot;USBONP1&quot;</td><td>&quot;MBC&quot;</td><td>14.65</td><td>2.2331</td><td>31.740028</td><td>1.346623</td><td>0.526594</td><td>1.172817</td><td>0.018613</td></tr><tr><td>2024-01-30</td><td>&quot;USBONP1&quot;</td><td>&quot;MBC&quot;</td><td>14.59</td><td>-0.4096</td><td>31.712842</td><td>1.334121</td><td>0.502256</td><td>1.122952</td><td>0.017806</td></tr><tr><td>2024-01-31</td><td>&quot;USBONP1&quot;</td><td>&quot;MBC&quot;</td><td>14.07</td><td>-3.5641</td><td>31.686111</td><td>1.356568</td><td>0.521707</td><td>1.151499</td><td>0.018243</td></tr><tr><td>2024-01-31</td><td>&quot;USBOOA1&quot;</td><td>&quot;GEHC&quot;</td><td>73.36</td><td>-0.8649</td><td>24.130635</td><td>1.023964</td><td>0.082302</td><td>0.174131</td><td>0.002101</td></tr><tr><td>2024-01-31</td><td>&quot;USBOQH1&quot;</td><td>&quot;VTS&quot;</td><td>21.01</td><td>-3.3134</td><td>32.931173</td><td>0.997244</td><td>0.46301</td><td>1.020939</td><td>0.01681</td></tr></tbody></table></div>"
      ],
      "text/plain": [
       "shape: (48_248, 10)\n",
       "┌────────────┬─────────┬────────┬───────┬───┬────────────────┬──────────┬──────────┬──────────┐\n",
       "│ date       ┆ barrid  ┆ ticker ┆ price ┆ … ┆ predicted_beta ┆ momentum ┆ score    ┆ alpha    │\n",
       "│ ---        ┆ ---     ┆ ---    ┆ ---   ┆   ┆ ---            ┆ ---      ┆ ---      ┆ ---      │\n",
       "│ date       ┆ str     ┆ str    ┆ f64   ┆   ┆ f64            ┆ f64      ┆ f64      ┆ f64      │\n",
       "╞════════════╪═════════╪════════╪═══════╪═══╪════════════════╪══════════╪══════════╪══════════╡\n",
       "│ 2024-01-04 ┆ USA06Z1 ┆ MDXG   ┆ 7.76  ┆ … ┆ 1.098982       ┆ 0.989638 ┆ 2.186411 ┆ 0.054383 │\n",
       "│ 2024-01-05 ┆ USA06Z1 ┆ MDXG   ┆ 7.8   ┆ … ┆ 1.063097       ┆ 0.979587 ┆ 2.186923 ┆ 0.054165 │\n",
       "│ 2024-01-08 ┆ USA06Z1 ┆ MDXG   ┆ 8.22  ┆ … ┆ 1.085788       ┆ 0.936866 ┆ 2.069079 ┆ 0.051143 │\n",
       "│ 2024-01-09 ┆ USA06Z1 ┆ MDXG   ┆ 8.03  ┆ … ┆ 1.182189       ┆ 0.896796 ┆ 2.054735 ┆ 0.050822 │\n",
       "│ 2024-01-10 ┆ USA06Z1 ┆ MDXG   ┆ 8.1   ┆ … ┆ 1.208223       ┆ 0.882818 ┆ 2.027264 ┆ 0.050076 │\n",
       "│ 2024-01-11 ┆ USA06Z1 ┆ MDXG   ┆ 8.04  ┆ … ┆ 1.232689       ┆ 0.853987 ┆ 1.96722  ┆ 0.048516 │\n",
       "│ 2024-01-12 ┆ USA06Z1 ┆ MDXG   ┆ 8.04  ┆ … ┆ 1.230763       ┆ 0.847307 ┆ 1.958182 ┆ 0.048122 │\n",
       "│ 2024-01-16 ┆ USA06Z1 ┆ MDXG   ┆ 8.08  ┆ … ┆ 1.137885       ┆ 0.826331 ┆ 1.926794 ┆ 0.047243 │\n",
       "│ 2024-01-17 ┆ USA06Z1 ┆ MDXG   ┆ 8.35  ┆ … ┆ 1.164485       ┆ 0.896639 ┆ 2.052958 ┆ 0.050242 │\n",
       "│ 2024-01-18 ┆ USA06Z1 ┆ MDXG   ┆ 8.25  ┆ … ┆ 1.098937       ┆ 0.935543 ┆ 2.111361 ┆ 0.051648 │\n",
       "│ …          ┆ …       ┆ …      ┆ …     ┆ … ┆ …              ┆ …        ┆ …        ┆ …        │\n",
       "│ 2024-01-22 ┆ USBONP1 ┆ MBC    ┆ 14.76 ┆ … ┆ 1.32325        ┆ 0.613148 ┆ 1.32987  ┆ 0.021335 │\n",
       "│ 2024-01-23 ┆ USBONP1 ┆ MBC    ┆ 14.32 ┆ … ┆ 1.313646       ┆ 0.598009 ┆ 1.312013 ┆ 0.021007 │\n",
       "│ 2024-01-24 ┆ USBONP1 ┆ MBC    ┆ 14.17 ┆ … ┆ 1.30609        ┆ 0.552557 ┆ 1.267123 ┆ 0.020241 │\n",
       "│ 2024-01-25 ┆ USBONP1 ┆ MBC    ┆ 14.4  ┆ … ┆ 1.355098       ┆ 0.525051 ┆ 1.170595 ┆ 0.018658 │\n",
       "│ 2024-01-26 ┆ USBONP1 ┆ MBC    ┆ 14.33 ┆ … ┆ 1.370824       ┆ 0.516839 ┆ 1.151209 ┆ 0.018322 │\n",
       "│ 2024-01-29 ┆ USBONP1 ┆ MBC    ┆ 14.65 ┆ … ┆ 1.346623       ┆ 0.526594 ┆ 1.172817 ┆ 0.018613 │\n",
       "│ 2024-01-30 ┆ USBONP1 ┆ MBC    ┆ 14.59 ┆ … ┆ 1.334121       ┆ 0.502256 ┆ 1.122952 ┆ 0.017806 │\n",
       "│ 2024-01-31 ┆ USBONP1 ┆ MBC    ┆ 14.07 ┆ … ┆ 1.356568       ┆ 0.521707 ┆ 1.151499 ┆ 0.018243 │\n",
       "│ 2024-01-31 ┆ USBOOA1 ┆ GEHC   ┆ 73.36 ┆ … ┆ 1.023964       ┆ 0.082302 ┆ 0.174131 ┆ 0.002101 │\n",
       "│ 2024-01-31 ┆ USBOQH1 ┆ VTS    ┆ 21.01 ┆ … ┆ 0.997244       ┆ 0.46301  ┆ 1.020939 ┆ 0.01681  │\n",
       "└────────────┴─────────┴────────┴───────┴───┴────────────────┴──────────┴──────────┴──────────┘"
      ]
     },
     "execution_count": 5,
     "metadata": {},
     "output_type": "execute_result"
    }
   ],
   "source": [
    "def task_price_filter(alphas: pl.DataFrame) -> pl.DataFrame:\n",
    "    \"\"\"\n",
    "    Filter the universe to lagged price greater than 5 and non-null alpha.\n",
    "    \n",
    "    Args:\n",
    "        alphas (pl.DataFrame): Data frame containing barrid, date, specific_risk, momentum, score, and alpha columns.\n",
    "    Returns:\n",
    "        pl.DataFrame: Data frame containing barrid, date, specific_risk, momentum, score, and alpha columns.\n",
    "    \"\"\"\n",
    "    df = alphas.clone()\n",
    "    df = df.filter(pl.col('price').shift() > 5).drop_nulls(pl.col('alpha'))\n",
    "    return df\n",
    "\n",
    "price_filter = task_price_filter(alphas)\n",
    "\n",
    "price_filter"
   ]
  },
  {
   "cell_type": "markdown",
   "id": "333b134e",
   "metadata": {},
   "source": [
    "## Backtest\n",
    "\n",
    "Now that we have our alphas we will compute the MVO portfolios for each date in our sample.\n",
    "\n",
    "### Instructions\n",
    "- Use the `FullInvestment`, `LongOnly`, `NoBuyingOnMargin`, and `UnitBeta` constraints.\n",
    "- For each unique date in the `price_filter` data frame find the optimal weights using `sf_quant.optimizer.mve_optimizer`.\n",
    "- Note: for the `UnitBeta` constraint to work you will need to provide the predicted betas to the optimizer in each iteration.\n",
    "- Hint: the optimizer assumes that your alpha vector and covariance matrix are both sorted the same way.\n",
    "- Hint: use a gamma of 10."
   ]
  },
  {
   "cell_type": "code",
   "execution_count": 16,
   "id": "46de1d6c",
   "metadata": {},
   "outputs": [
    {
     "data": {
      "text/html": [
       "<div><style>\n",
       ".dataframe > thead > tr,\n",
       ".dataframe > tbody > tr {\n",
       "  text-align: right;\n",
       "  white-space: pre-wrap;\n",
       "}\n",
       "</style>\n",
       "<small>shape: (2_407, 2)</small><table border=\"1\" class=\"dataframe\"><thead><tr><th>ticker</th><th>weight</th></tr><tr><td>str</td><td>f64</td></tr></thead><tbody><tr><td>&quot;USA3871&quot;</td><td>2.3147e-20</td></tr><tr><td>&quot;USBDIJ1&quot;</td><td>-3.5159e-19</td></tr><tr><td>&quot;USBDPM1&quot;</td><td>-2.1599e-19</td></tr><tr><td>&quot;USA91R1&quot;</td><td>-2.2867e-19</td></tr><tr><td>&quot;USBFCZ1&quot;</td><td>-2.5956e-19</td></tr><tr><td>&quot;USAA181&quot;</td><td>-1.6836e-19</td></tr><tr><td>&quot;USAB1X1&quot;</td><td>-3.0775e-20</td></tr><tr><td>&quot;USAC121&quot;</td><td>-2.3106e-19</td></tr><tr><td>&quot;USBALJ1&quot;</td><td>2.4309e-19</td></tr><tr><td>&quot;USAV4K1&quot;</td><td>-2.2693e-19</td></tr><tr><td>&hellip;</td><td>&hellip;</td></tr><tr><td>&quot;USBNM11&quot;</td><td>-2.7695e-19</td></tr><tr><td>&quot;USAP941&quot;</td><td>-3.2831e-19</td></tr><tr><td>&quot;USBFPP1&quot;</td><td>-2.5142e-19</td></tr><tr><td>&quot;USBEOV1&quot;</td><td>-1.5338e-19</td></tr><tr><td>&quot;USBE1T1&quot;</td><td>-2.8969e-19</td></tr><tr><td>&quot;USBANZ1&quot;</td><td>1.8004e-20</td></tr><tr><td>&quot;USA2U81&quot;</td><td>-2.7555e-19</td></tr><tr><td>&quot;USBD1C1&quot;</td><td>-2.8429e-19</td></tr><tr><td>&quot;USAJ231&quot;</td><td>-1.1174e-19</td></tr><tr><td>&quot;USATUX1&quot;</td><td>-1.8766e-19</td></tr></tbody></table></div>"
      ],
      "text/plain": [
       "shape: (2_407, 2)\n",
       "┌─────────┬─────────────┐\n",
       "│ ticker  ┆ weight      │\n",
       "│ ---     ┆ ---         │\n",
       "│ str     ┆ f64         │\n",
       "╞═════════╪═════════════╡\n",
       "│ USA3871 ┆ 2.3147e-20  │\n",
       "│ USBDIJ1 ┆ -3.5159e-19 │\n",
       "│ USBDPM1 ┆ -2.1599e-19 │\n",
       "│ USA91R1 ┆ -2.2867e-19 │\n",
       "│ USBFCZ1 ┆ -2.5956e-19 │\n",
       "│ USAA181 ┆ -1.6836e-19 │\n",
       "│ USAB1X1 ┆ -3.0775e-20 │\n",
       "│ USAC121 ┆ -2.3106e-19 │\n",
       "│ USBALJ1 ┆ 2.4309e-19  │\n",
       "│ USAV4K1 ┆ -2.2693e-19 │\n",
       "│ …       ┆ …           │\n",
       "│ USBNM11 ┆ -2.7695e-19 │\n",
       "│ USAP941 ┆ -3.2831e-19 │\n",
       "│ USBFPP1 ┆ -2.5142e-19 │\n",
       "│ USBEOV1 ┆ -1.5338e-19 │\n",
       "│ USBE1T1 ┆ -2.8969e-19 │\n",
       "│ USBANZ1 ┆ 1.8004e-20  │\n",
       "│ USA2U81 ┆ -2.7555e-19 │\n",
       "│ USBD1C1 ┆ -2.8429e-19 │\n",
       "│ USAJ231 ┆ -1.1174e-19 │\n",
       "│ USATUX1 ┆ -1.8766e-19 │\n",
       "└─────────┴─────────────┘"
      ]
     },
     "execution_count": 16,
     "metadata": {},
     "output_type": "execute_result"
    }
   ],
   "source": [
    "def task_backtest(price_filter: pl.DataFrame) -> pl.DataFrame:\n",
    "    \"\"\"\n",
    "    Compute the optimal portfolio weights for each day in our sample.\n",
    "    \n",
    "    Args:\n",
    "        price_filter (pl.DataFrame): Data frame containing barrid, date, specific_risk, momentum, score, and alpha columns.\n",
    "    Returns:\n",
    "        pl.DataFrame: Data frame containing barrid, date, and weight columns.\n",
    "    \"\"\"\n",
    "    df = price_filter.clone()\n",
    "    # weights = df.select(['date', 'barrid'])\n",
    "    # weights = weights.with_columns((pl.col('barrid') + pl.Null()).alias('weight'))\n",
    "    for day in df.get_column('date').sort().unique(maintain_order=True):\n",
    "        dayDf = df.filter(pl.col('date') == day).sort('ticker')\n",
    "        alphas = dayDf.get_column('alpha').to_numpy()\n",
    "        barrids = dayDf.get_column('barrid').unique(maintain_order=True).to_list()\n",
    "        betas = dayDf.get_column('predicted_beta').to_numpy()\n",
    "        cov_mat = sfd.construct_covariance_matrix(day, barrids).to_numpy()[:,1:] / 252\n",
    "        tempdf = sfo.mve_optimizer(barrids, alphas, cov_mat, [sfo.FullInvestment(), sfo.LongOnly(), sfo.NoBuyingOnMargin(), sfo.UnitBeta()], gamma=10, betas=betas).rename({\"barrid\":\"ticker\"})\n",
    "        return tempdf\n",
    "        for barrid in barrids:\n",
    "            weights[(pl.col('barrid') == day) & (pl.col('barrid') == barrid), 'weight'] = tempdf[barrid]\n",
    "\n",
    "weights = task_backtest(price_filter)\n",
    "\n",
    "weights"
   ]
  },
  {
   "cell_type": "markdown",
   "id": "dbf5739e",
   "metadata": {},
   "source": [
    "## Performance Analysis\n",
    "\n",
    "Now that we have our optimal weights we will join the returns from our initial dataset. \n",
    "\n",
    "### Instructions\n",
    "- Join the returns from `data` and compute the return and cumulative return of the portfolio using the optimal weights.\n",
    "- Note: since our covariance matrix isn't lagged we will need to shift our returns forward. To do this use `.shift(-1)` by `barrid` and call it `fwd_return`.\n",
    "- Chart the cumulative returns of the portfolio."
   ]
  },
  {
   "cell_type": "code",
   "execution_count": null,
   "id": "ac6035ba",
   "metadata": {},
   "outputs": [],
   "source": [
    "def task_compute_returns(weights: pl.DataFrame, data: pl.DataFrame) -> pl.DataFrame:\n",
    "    \"\"\" \n",
    "    Compute the optimal portfolio returns.\n",
    "\n",
    "    Args:\n",
    "        weights (pl.DataFrame): Data frame containing barrid, date, and weight columns.\n",
    "        data (pl.DataFrame): Data frame containing barrid, date, and return columns\n",
    "\n",
    "    Returns:\n",
    "        pl.DataFrame: Data frame containing date, fwd_return, and cumulative_fwd_return_columns\n",
    "    \"\"\"\n",
    "    # TODO: Finish this function.\n",
    "    pass           \n",
    "\n",
    "returns = task_compute_returns(weights, data)\n",
    "\n",
    "returns"
   ]
  },
  {
   "cell_type": "code",
   "execution_count": null,
   "id": "1cd6c858",
   "metadata": {},
   "outputs": [],
   "source": [
    "# TODO: Chart the cumulative returns of the portfolio."
   ]
  },
  {
   "cell_type": "markdown",
   "id": "437c6c46",
   "metadata": {},
   "source": [
    "## Benchmark Decomposition\n",
    "\n",
    "You should find that our portfolio is up and to the right. But the question is how much of that is due to the market being up versus our signal being good. We will find out by joining the benchmark weights to our `weights` data frame and computing the active weights.\n",
    "\n",
    "### Instructions\n",
    "\n",
    "- Pull in the benchmark weights using `sf_quant.data.load_benchmark`.\n",
    "- Join the benchmark weights to the optimal weights.\n",
    "- Compute the active weights as `weight` - `weight_bmk` = `weight_act`\n",
    "- Unpivot the weight columns and compute the forward return for each portfolio (total, benchmark, and active). "
   ]
  },
  {
   "cell_type": "code",
   "execution_count": null,
   "id": "5ef508f7",
   "metadata": {},
   "outputs": [],
   "source": [
    "def task_return_decomposition(weights: pl.DataFrame, data: pl.DataFrame) -> pl.DataFrame:\n",
    "    \"\"\" \n",
    "    Compute the forward returns for the total, benchmark, and active portfolios.\n",
    "\n",
    "    Args:\n",
    "        weights (pl.DataFrame): Data frame containing barrid, date, and weight columns.\n",
    "        data (pl.DataFrame): Data frame containing barrid, date, and return columns\n",
    "\n",
    "    Returns:\n",
    "        pl.DataFrame: Data frame containing date, portfolio, fwd_return, and cumulative_fwd_return columns        \n",
    "    \"\"\"\n",
    "    # TODO: Finish this function.\n",
    "    pass\n",
    "\n",
    "returns_decomp = task_return_decomposition(weights, data)\n",
    "\n",
    "returns_decomp"
   ]
  },
  {
   "cell_type": "code",
   "execution_count": null,
   "id": "6314221a",
   "metadata": {},
   "outputs": [],
   "source": [
    "# TODO: Chart the cumulative returns of each portfolio\n",
    "# HINT: Use seaborn.lineplot() with the attribute hue='portfolio'"
   ]
  },
  {
   "cell_type": "code",
   "execution_count": null,
   "id": "46d271c0",
   "metadata": {},
   "outputs": [],
   "source": [
    "# TODO: Compute the annual average return, annual volatility, and annualized sharpe ratio for each portfolio."
   ]
  },
  {
   "cell_type": "markdown",
   "id": "b78b4b5a",
   "metadata": {},
   "source": [
    "## `sf_quant` Backtester Module\n",
    "\n",
    "That was a lot of fun right? Just kidding. All of that code takes a lot of work. That's why we've implemented a backtester in the `sf_quant` package. Let's practice using it really quick and compare our results.\n",
    "\n",
    "### Instructions\n",
    "- Declare your constraints the same way you did previously.\n",
    "- Use a gamma of 10.\n",
    "- Find the optimal weights using the `sf_quant.backtester` module.\n",
    "- Hint: use the `backtest_parallel()` module to run your backtest in parallel across all the cores on your machine."
   ]
  },
  {
   "cell_type": "code",
   "execution_count": null,
   "id": "a7d4fef1",
   "metadata": {},
   "outputs": [],
   "source": [
    "def task_backtest_sf(price_filter: pl.DataFrame) -> pl.DataFrame:\n",
    "    \"\"\" \n",
    "    Compute the optimal portfolio weights using the `sf_quant` package.\n",
    "\n",
    "    Args:\n",
    "        price_filter (pl.DataFrame): Data frame containing barrid, date, specific_risk, momentum, score, and alpha columns.\n",
    "\n",
    "    Returns:\n",
    "        pl.DataFrame: Data frame containing barrid, date, and weight columns.\n",
    "    \"\"\"\n",
    "    # TODO: Finish this function.\n",
    "    pass\n",
    "\n",
    "weights_sf = task_backtest_sf(price_filter)\n",
    "\n",
    "weights_sf"
   ]
  },
  {
   "cell_type": "markdown",
   "id": "fa70bd84",
   "metadata": {},
   "source": [
    "## `sf_quant` Performance Package\n",
    "\n",
    "It's also not a lot of fun to merge the returns dataset and do a full decomposition manually. You can do that with `sf_quant.performance` too.\n",
    "\n",
    "### Instructions\n",
    "\n",
    "- Compute the portfolio forward returns decomposition using the `generate_returns_from_weights` function.\n",
    "- Chart the cumulative returns of the portfolios using the `generate_returns_chart` function.\n",
    "- Generate the summary table using the `generate_summary_table` function."
   ]
  },
  {
   "cell_type": "code",
   "execution_count": null,
   "id": "cda5d986",
   "metadata": {},
   "outputs": [],
   "source": [
    "def task_return_decomposition_sf(weights_sf: pl.DataFrame) -> pl.DataFrame:\n",
    "    \"\"\" \n",
    "    Compute the returns decomposition using the `sf_quant` package.\n",
    "\n",
    "    Args:\n",
    "        weights_sf (pl.DataFrame): Data frame containing date, barrid, and weight columns.\n",
    "\n",
    "    Returns:\n",
    "        pl.DataFrame: Data frame containing date, portfolio, and return (fwd_return) columns\n",
    "    \"\"\"\n",
    "    # TODO: Finish this function.\n",
    "    pass\n",
    "\n",
    "returns_sf = task_return_decomposition_sf(weights_sf)\n",
    "\n",
    "returns_sf"
   ]
  },
  {
   "cell_type": "code",
   "execution_count": null,
   "id": "9a77ffc2",
   "metadata": {},
   "outputs": [],
   "source": [
    "# TODO: Generate the returns chart"
   ]
  },
  {
   "cell_type": "code",
   "execution_count": null,
   "id": "7d74038d",
   "metadata": {},
   "outputs": [],
   "source": [
    "# TODO: Generate the summary table"
   ]
  },
  {
   "cell_type": "code",
   "execution_count": null,
   "id": "2ba0ae9c",
   "metadata": {},
   "outputs": [],
   "source": []
  }
 ],
 "metadata": {
  "kernelspec": {
   "display_name": "sf-quant-labs",
   "language": "python",
   "name": "python3"
  },
  "language_info": {
   "codemirror_mode": {
    "name": "ipython",
    "version": 3
   },
   "file_extension": ".py",
   "mimetype": "text/x-python",
   "name": "python",
   "nbconvert_exporter": "python",
   "pygments_lexer": "ipython3",
   "version": "3.11.7"
  }
 },
 "nbformat": 4,
 "nbformat_minor": 5
}
